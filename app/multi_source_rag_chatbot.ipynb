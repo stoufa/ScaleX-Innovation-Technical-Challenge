{
 "cells": [
  {
   "cell_type": "markdown",
   "metadata": {
    "id": "oREH2hXg3-LP"
   },
   "source": [
    "source: [LangGraph Deep Dive: Build Better Agents](https://www.youtube.com/watch?v=usOmwLZNVuM) (YouTube Video, Channel: James Briggs)"
   ]
  },
  {
   "cell_type": "markdown",
   "metadata": {
    "id": "mGh1j1Qt3c5c"
   },
   "source": [
    "[![Open In Colab](https://colab.research.google.com/assets/colab-badge.svg)](https://colab.research.google.com/github/pinecone-io/examples/blob/master/learn/generation/langchain/langgraph/01-gpt-4o-research-agent.ipynb) [![Open nbviewer](https://raw.githubusercontent.com/pinecone-io/examples/master/assets/nbviewer-shield.svg)](https://nbviewer.org/github/pinecone-io/examples/blob/master/learn/generation/langchain/langgraph/01-gpt-4o-research-agent.ipynb)"
   ]
  },
  {
   "cell_type": "markdown",
   "metadata": {
    "id": "_PFp0JhOWCU5"
   },
   "source": [
    "# GPT-4o Research Agent in LangGraph"
   ]
  },
  {
   "cell_type": "markdown",
   "metadata": {
    "id": "EckNKuhXWHEJ"
   },
   "source": [
    "**Research agents** are multi-step LLM agents that through multiple steps can produce in depth research reports on a topic of our choosing. Most research agents are packed up into their own frameworks, like BlockAGI and others.\n",
    "\n",
    "In this example, we want to demonstrate how we can build our own AI research agent using `gpt-4o`, Pinecone, LangGraph, arXiv, and Google via the SerpAPI."
   ]
  },
  {
   "cell_type": "code",
   "execution_count": 7,
   "metadata": {
    "colab": {
     "base_uri": "https://localhost:8080/"
    },
    "id": "TCVLlfNyAtxD",
    "outputId": "658c89aa-52b6-4663-cfb7-1391d2a1170d"
   },
   "outputs": [
    {
     "name": "stdout",
     "output_type": "stream",
     "text": [
      "Reading package lists... Done\n",
      "Building dependency tree... Done\n",
      "Reading state information... Done\n",
      "graphviz is already the newest version (2.42.2-7+deb12u1).\n",
      "libgraphviz-dev is already the newest version (2.42.2-7+deb12u1).\n",
      "pkg-config is already the newest version (1.8.1-1).\n",
      "0 upgraded, 0 newly installed, 0 to remove and 0 not upgraded.\n"
     ]
    }
   ],
   "source": [
    "!apt-get install graphviz libgraphviz-dev pkg-config"
   ]
  },
  {
   "cell_type": "markdown",
   "metadata": {
    "id": "X3hzHJ4NoLYD"
   },
   "source": [
    "We need these prerequisite libraries to run a graph visualization library (`pygraphviz`). We will use this library during this notebook to understand the structure of our graphs _but_ it is not required to use `langgraph`."
   ]
  },
  {
   "cell_type": "markdown",
   "metadata": {
    "id": "IbR8rt-EtqWh"
   },
   "source": [
    "Now we install Python libraries:"
   ]
  },
  {
   "cell_type": "code",
   "execution_count": 9,
   "metadata": {
    "id": "FUt2EoJZu6M3"
   },
   "outputs": [
    {
     "name": "stdout",
     "output_type": "stream",
     "text": [
      "\u001b[33mWARNING: Running pip as the 'root' user can result in broken permissions and conflicting behaviour with the system package manager, possibly rendering your system unusable. It is recommended to use a virtual environment instead: https://pip.pypa.io/warnings/venv. Use the --root-user-action option if you know what you are doing and want to suppress this warning.\u001b[0m\u001b[33m\n",
      "\u001b[0m"
     ]
    }
   ],
   "source": [
    "!pip install -qU \\\n",
    "    datasets==2.19.1 \\\n",
    "    langchain-pinecone==0.1.1 \\\n",
    "    langchain-openai==0.1.9 \\\n",
    "    langchain==0.2.5 \\\n",
    "    langchain-core==0.2.9 \\\n",
    "    langgraph==0.1.1 \\\n",
    "    semantic-router==0.0.48 \\\n",
    "    serpapi==0.1.5 \\\n",
    "    google-search-results==2.4.2 \\\n",
    "    pygraphviz==1.11  # for visualizing"
   ]
  },
  {
   "cell_type": "code",
   "execution_count": 15,
   "metadata": {},
   "outputs": [
    {
     "name": "stdout",
     "output_type": "stream",
     "text": [
      "\u001b[33mWARNING: Running pip as the 'root' user can result in broken permissions and conflicting behaviour with the system package manager, possibly rendering your system unusable. It is recommended to use a virtual environment instead: https://pip.pypa.io/warnings/venv. Use the --root-user-action option if you know what you are doing and want to suppress this warning.\u001b[0m\u001b[33m\n",
      "\u001b[0m"
     ]
    }
   ],
   "source": [
    "!pip install -qU \\\n",
    "    datasets==2.19.1 \\\n",
    "    langchain-pinecone==0.1.1 \\\n",
    "    langchain-openai==0.1.9 \\\n",
    "    langchain==0.2.5 \\\n",
    "    langchain-core==0.2.9 \\\n",
    "    langgraph==0.1.1 \\\n",
    "    semantic-router==0.0.48 \\\n",
    "    cohere==5.3.1 \\\n",
    "    serpapi==0.1.5 \\\n",
    "    google-search-results==2.4.2 \\\n",
    "    pygraphviz==1.11"
   ]
  },
  {
   "cell_type": "markdown",
   "metadata": {
    "id": "bABCOVLFdrW4"
   },
   "source": [
    "## Research Agent Overview"
   ]
  },
  {
   "cell_type": "markdown",
   "metadata": {
    "id": "_t1rZK3FdtLh"
   },
   "source": [
    "Our research agent will consist of a function calling AI agent that has access to several tools that it can use to find information on a particular topic. It will be able to use several tools over multiple steps, meaning it can find information on one topic, broaden the scope of knowledge on this topic and _even_ investigate parallel topics where relevant.\n",
    "\n",
    "The tools we will be using are:\n",
    "\n",
    "* **ArXiv paper fetch**: Given an arXiv paper ID, this tool provides our agent with the abstract of the paper.\n",
    "* **Web search**: This tool provides our agent with access to Google search for more generalized queries.\n",
    "* **RAG search**: We will create a knowledge base containing AI arXiv papers. This tool provides our agent with access to this knowledge.\n",
    "* **RAG search with filter**: Sometimes our agent may need more information from a specific paper, this tool allows our agent to do just that.\n",
    "* **Final answer**: We create a custom final answer tool that forces our agent to output information in a specific format like:\n",
    "\n",
    "```\n",
    "INTRODUCTION\n",
    "------------\n",
    "<some intro to our report>\n",
    "\n",
    "RESEARCH STEPS\n",
    "--------------\n",
    "<the steps the agent took during research>\n",
    "\n",
    "REPORT\n",
    "------\n",
    "<the report main body>\n",
    "\n",
    "CONCLUSION\n",
    "----------\n",
    "<the report conclusion>\n",
    "\n",
    "SOURCES\n",
    "-------\n",
    "<any sources the agent used>\n",
    "```"
   ]
  },
  {
   "cell_type": "markdown",
   "metadata": {
    "id": "vovHYoM-AdbU"
   },
   "source": [
    "## Setup Knowledge Base"
   ]
  },
  {
   "cell_type": "markdown",
   "metadata": {
    "id": "YEtKvy4_AgLy"
   },
   "source": [
    "We'll be running our agent against a knowledge base — which requires a Pinecone index to be built.\n",
    "\n",
    "You can, if needed, skip this step and replace the `search` tool with a placeholder value if wanting to quickly test the structure of a RAG agent _without_ the RAG.\n",
    "\n",
    "If you want full functionality here, you do need to run this section — but we'll make it quick."
   ]
  },
  {
   "cell_type": "markdown",
   "metadata": {
    "id": "ohBxmFyTBFT0"
   },
   "source": [
    "### Download a Dataset"
   ]
  },
  {
   "cell_type": "markdown",
   "metadata": {
    "id": "g1ufvA8hBKHx"
   },
   "source": [
    "The first thing we need for an agent using RAG is somewhere we want to pull knowledge from. We will use v2 of the AI ArXiv dataset, available on Hugging Face Datasets at [`jamescalam/ai-arxiv2-chunks`](https://huggingface.co/datasets/jamescalam/ai-arxiv2-chunks).\n",
    "\n",
    "Note: we're using the prechunked dataset. For the raw version see [`jamescalam/ai-arxiv2`](https://huggingface.co/datasets/jamescalam/ai-arxiv2)."
   ]
  },
  {
   "cell_type": "code",
   "execution_count": 1,
   "metadata": {
    "colab": {
     "base_uri": "https://localhost:8080/"
    },
    "id": "ehcjNQ49BBuI",
    "outputId": "9b05f125-f2cd-4cf0-b6fd-a84d5a73b974"
   },
   "outputs": [
    {
     "name": "stderr",
     "output_type": "stream",
     "text": [
      "/usr/local/lib/python3.9/site-packages/tqdm/auto.py:21: TqdmWarning: IProgress not found. Please update jupyter and ipywidgets. See https://ipywidgets.readthedocs.io/en/stable/user_install.html\n",
      "  from .autonotebook import tqdm as notebook_tqdm\n",
      "Downloading data: 100%|██████████| 253M/253M [03:29<00:00, 1.21MB/s] \n",
      "Generating train split: 100%|██████████| 209760/209760 [00:01<00:00, 195538.87 examples/s]\n"
     ]
    },
    {
     "data": {
      "text/plain": [
       "Dataset({\n",
       "    features: ['id', 'title', 'content', 'prechunk_id', 'postchunk_id', 'arxiv_id', 'references'],\n",
       "    num_rows: 209760\n",
       "})"
      ]
     },
     "execution_count": 1,
     "metadata": {},
     "output_type": "execute_result"
    }
   ],
   "source": [
    "from datasets import load_dataset\n",
    "\n",
    "dataset = load_dataset(\"jamescalam/ai-arxiv2-semantic-chunks\", split=\"train\")\n",
    "dataset"
   ]
  },
  {
   "cell_type": "code",
   "execution_count": 2,
   "metadata": {
    "colab": {
     "base_uri": "https://localhost:8080/"
    },
    "id": "pElKCcVSSddB",
    "outputId": "91378db1-cec5-4d65-d872-bdd6e77f822a"
   },
   "outputs": [
    {
     "data": {
      "text/plain": [
       "{'id': '2401.04088#0',\n",
       " 'title': 'Mixtral of Experts',\n",
       " 'content': '4 2 0 2 n a J 8 ] G L . s c [ 1 v 8 8 0 4 0 . 1 0 4 2 : v i X r a # Mixtral of Experts Albert Q. Jiang, Alexandre Sablayrolles, Antoine Roux, Arthur Mensch, Blanche Savary, Chris Bamford, Devendra Singh Chaplot, Diego de las Casas, Emma Bou Hanna, Florian Bressand, Gianna Lengyel, Guillaume Bour, Guillaume Lample, LÃ©lio Renard Lavaud, Lucile Saulnier, Marie-Anne Lachaux, Pierre Stock, Sandeep Subramanian, Sophia Yang, Szymon Antoniak, Teven Le Scao, ThÃ©ophile Gervet, Thibaut Lavril, Thomas Wang, TimothÃ©e Lacroix, William El Sayed Abstract We introduce Mixtral 8x7B, a Sparse Mixture of Experts (SMoE) language model. Mixtral has the same architecture as Mistral 7B, with the difference that each layer is composed of 8 feedforward blocks (i.e. experts). For every token, at each layer, a router network selects two experts to process the current state and combine their outputs. Even though each token only sees two experts, the selected experts can be different at each timestep. As a result, each token has access to 47B parameters, but only uses 13B active parameters during inference. Mixtral was trained with a context size of 32k tokens and it outperforms or matches Llama 2 70B and GPT-3.5 across all evaluated benchmarks. In particular, Mixtral vastly outperforms Llama 2 70B on mathematics, code generation, and multilingual benchmarks. We also provide a model fine- tuned to follow instructions, Mixtral 8x7B â Instruct, that surpasses GPT-3.5 Turbo, Claude-2.1, Gemini Pro, and Llama 2 70B â chat model on human bench- marks. Both the base and instruct models are released under the Apache 2.0 license.',\n",
       " 'prechunk_id': '',\n",
       " 'postchunk_id': '2401.04088#1',\n",
       " 'arxiv_id': '2401.04088',\n",
       " 'references': ['1905.07830']}"
      ]
     },
     "execution_count": 2,
     "metadata": {},
     "output_type": "execute_result"
    }
   ],
   "source": [
    "dataset[0]"
   ]
  },
  {
   "cell_type": "markdown",
   "metadata": {
    "id": "vJjZMEO_HmOi"
   },
   "source": [
    "Building a knowledge base:"
   ]
  },
  {
   "cell_type": "code",
   "execution_count": 12,
   "metadata": {
    "scrolled": true
   },
   "outputs": [
    {
     "name": "stdout",
     "output_type": "stream",
     "text": [
      "Collecting cohere<5.5,>=5.0\n",
      "  Downloading cohere-5.4.0-py3-none-any.whl.metadata (3.1 kB)\n",
      "Collecting boto3<2.0.0,>=1.34.0 (from cohere<5.5,>=5.0)\n",
      "  Downloading boto3-1.37.35-py3-none-any.whl.metadata (6.7 kB)\n",
      "Requirement already satisfied: fastavro<2.0.0,>=1.9.4 in /usr/local/lib/python3.9/site-packages (from cohere<5.5,>=5.0) (1.10.0)\n",
      "Requirement already satisfied: httpx>=0.21.2 in /usr/local/lib/python3.9/site-packages (from cohere<5.5,>=5.0) (0.28.1)\n",
      "Requirement already satisfied: httpx-sse<0.5.0,>=0.4.0 in /usr/local/lib/python3.9/site-packages (from cohere<5.5,>=5.0) (0.4.0)\n",
      "Requirement already satisfied: pydantic>=1.9.2 in /usr/local/lib/python3.9/site-packages (from cohere<5.5,>=5.0) (2.11.3)\n",
      "Requirement already satisfied: requests<3.0.0,>=2.0.0 in /usr/local/lib/python3.9/site-packages (from cohere<5.5,>=5.0) (2.32.3)\n",
      "Collecting tokenizers<0.20,>=0.19 (from cohere<5.5,>=5.0)\n",
      "  Downloading tokenizers-0.19.1-cp39-cp39-manylinux_2_17_x86_64.manylinux2014_x86_64.whl.metadata (6.7 kB)\n",
      "Requirement already satisfied: types-requests<3.0.0,>=2.0.0 in /usr/local/lib/python3.9/site-packages (from cohere<5.5,>=5.0) (2.32.0.20250328)\n",
      "Requirement already satisfied: typing_extensions>=4.0.0 in /usr/local/lib/python3.9/site-packages (from cohere<5.5,>=5.0) (4.13.2)\n",
      "Collecting botocore<1.38.0,>=1.37.35 (from boto3<2.0.0,>=1.34.0->cohere<5.5,>=5.0)\n",
      "  Downloading botocore-1.37.35-py3-none-any.whl.metadata (5.7 kB)\n",
      "Collecting jmespath<2.0.0,>=0.7.1 (from boto3<2.0.0,>=1.34.0->cohere<5.5,>=5.0)\n",
      "  Downloading jmespath-1.0.1-py3-none-any.whl.metadata (7.6 kB)\n",
      "Collecting s3transfer<0.12.0,>=0.11.0 (from boto3<2.0.0,>=1.34.0->cohere<5.5,>=5.0)\n",
      "  Downloading s3transfer-0.11.4-py3-none-any.whl.metadata (1.7 kB)\n",
      "Requirement already satisfied: anyio in /usr/local/lib/python3.9/site-packages (from httpx>=0.21.2->cohere<5.5,>=5.0) (4.9.0)\n",
      "Requirement already satisfied: certifi in /usr/local/lib/python3.9/site-packages (from httpx>=0.21.2->cohere<5.5,>=5.0) (2025.1.31)\n",
      "Requirement already satisfied: httpcore==1.* in /usr/local/lib/python3.9/site-packages (from httpx>=0.21.2->cohere<5.5,>=5.0) (1.0.8)\n",
      "Requirement already satisfied: idna in /usr/local/lib/python3.9/site-packages (from httpx>=0.21.2->cohere<5.5,>=5.0) (3.10)\n",
      "Requirement already satisfied: h11<0.15,>=0.13 in /usr/local/lib/python3.9/site-packages (from httpcore==1.*->httpx>=0.21.2->cohere<5.5,>=5.0) (0.14.0)\n",
      "Requirement already satisfied: annotated-types>=0.6.0 in /usr/local/lib/python3.9/site-packages (from pydantic>=1.9.2->cohere<5.5,>=5.0) (0.7.0)\n",
      "Requirement already satisfied: pydantic-core==2.33.1 in /usr/local/lib/python3.9/site-packages (from pydantic>=1.9.2->cohere<5.5,>=5.0) (2.33.1)\n",
      "Requirement already satisfied: typing-inspection>=0.4.0 in /usr/local/lib/python3.9/site-packages (from pydantic>=1.9.2->cohere<5.5,>=5.0) (0.4.0)\n",
      "Requirement already satisfied: charset-normalizer<4,>=2 in /usr/local/lib/python3.9/site-packages (from requests<3.0.0,>=2.0.0->cohere<5.5,>=5.0) (3.4.1)\n",
      "Requirement already satisfied: urllib3<3,>=1.21.1 in /usr/local/lib/python3.9/site-packages (from requests<3.0.0,>=2.0.0->cohere<5.5,>=5.0) (2.4.0)\n",
      "Requirement already satisfied: huggingface-hub<1.0,>=0.16.4 in /usr/local/lib/python3.9/site-packages (from tokenizers<0.20,>=0.19->cohere<5.5,>=5.0) (0.30.2)\n",
      "Requirement already satisfied: python-dateutil<3.0.0,>=2.1 in /usr/local/lib/python3.9/site-packages (from botocore<1.38.0,>=1.37.35->boto3<2.0.0,>=1.34.0->cohere<5.5,>=5.0) (2.9.0.post0)\n",
      "INFO: pip is looking at multiple versions of botocore to determine which version is compatible with other requirements. This could take a while.\n",
      "Collecting types-requests<3.0.0,>=2.0.0 (from cohere<5.5,>=5.0)\n",
      "  Using cached types_requests-2.32.0.20250328-py3-none-any.whl.metadata (2.3 kB)\n",
      "  Downloading types_requests-2.32.0.20250306-py3-none-any.whl.metadata (2.3 kB)\n",
      "  Downloading types_requests-2.32.0.20250301-py3-none-any.whl.metadata (2.3 kB)\n",
      "  Downloading types_requests-2.32.0.20241016-py3-none-any.whl.metadata (1.9 kB)\n",
      "  Downloading types_requests-2.32.0.20240914-py3-none-any.whl.metadata (1.9 kB)\n",
      "  Downloading types_requests-2.32.0.20240907-py3-none-any.whl.metadata (1.9 kB)\n",
      "  Downloading types_requests-2.32.0.20240905-py3-none-any.whl.metadata (1.9 kB)\n",
      "INFO: pip is still looking at multiple versions of botocore to determine which version is compatible with other requirements. This could take a while.\n",
      "  Downloading types_requests-2.32.0.20240712-py3-none-any.whl.metadata (1.9 kB)\n",
      "  Downloading types_requests-2.32.0.20240622-py3-none-any.whl.metadata (1.8 kB)\n",
      "  Downloading types_requests-2.32.0.20240602-py3-none-any.whl.metadata (1.8 kB)\n",
      "  Downloading types_requests-2.32.0.20240523-py3-none-any.whl.metadata (1.8 kB)\n",
      "  Downloading types_requests-2.32.0.20240521-py3-none-any.whl.metadata (1.8 kB)\n",
      "INFO: This is taking longer than usual. You might need to provide the dependency resolver with stricter constraints to reduce runtime. See https://pip.pypa.io/warnings/backtracking for guidance. If you want to abort this run, press Ctrl + C.\n",
      "  Downloading types_requests-2.31.0.20240406-py3-none-any.whl.metadata (1.8 kB)\n",
      "  Downloading types_requests-2.31.0.20240403-py3-none-any.whl.metadata (1.8 kB)\n",
      "  Downloading types_requests-2.31.0.20240402-py3-none-any.whl.metadata (1.8 kB)\n",
      "  Downloading types_requests-2.31.0.20240311-py3-none-any.whl.metadata (1.8 kB)\n",
      "  Downloading types_requests-2.31.0.20240310-py3-none-any.whl.metadata (1.8 kB)\n",
      "  Downloading types_requests-2.31.0.20240218-py3-none-any.whl.metadata (1.8 kB)\n",
      "  Downloading types_requests-2.31.0.20240125-py3-none-any.whl.metadata (1.8 kB)\n",
      "  Downloading types_requests-2.31.0.20240106-py3-none-any.whl.metadata (1.8 kB)\n",
      "  Downloading types_requests-2.31.0.20231231-py3-none-any.whl.metadata (1.8 kB)\n",
      "  Downloading types_requests-2.31.0.10-py3-none-any.whl.metadata (1.8 kB)\n",
      "  Downloading types_requests-2.31.0.9-py3-none-any.whl.metadata (1.8 kB)\n",
      "  Downloading types_requests-2.31.0.8-py3-none-any.whl.metadata (1.6 kB)\n",
      "  Downloading types_requests-2.31.0.7-py3-none-any.whl.metadata (1.4 kB)\n",
      "  Downloading types_requests-2.31.0.6-py3-none-any.whl.metadata (1.4 kB)\n",
      "Collecting types-urllib3 (from types-requests<3.0.0,>=2.0.0->cohere<5.5,>=5.0)\n",
      "  Downloading types_urllib3-1.26.25.14-py3-none-any.whl.metadata (1.7 kB)\n",
      "Collecting urllib3<3,>=1.21.1 (from requests<3.0.0,>=2.0.0->cohere<5.5,>=5.0)\n",
      "  Downloading urllib3-1.26.20-py2.py3-none-any.whl.metadata (50 kB)\n",
      "Requirement already satisfied: filelock in /usr/local/lib/python3.9/site-packages (from huggingface-hub<1.0,>=0.16.4->tokenizers<0.20,>=0.19->cohere<5.5,>=5.0) (3.18.0)\n",
      "Requirement already satisfied: fsspec>=2023.5.0 in /usr/local/lib/python3.9/site-packages (from huggingface-hub<1.0,>=0.16.4->tokenizers<0.20,>=0.19->cohere<5.5,>=5.0) (2024.3.1)\n",
      "Requirement already satisfied: packaging>=20.9 in /usr/local/lib/python3.9/site-packages (from huggingface-hub<1.0,>=0.16.4->tokenizers<0.20,>=0.19->cohere<5.5,>=5.0) (24.2)\n",
      "Requirement already satisfied: pyyaml>=5.1 in /usr/local/lib/python3.9/site-packages (from huggingface-hub<1.0,>=0.16.4->tokenizers<0.20,>=0.19->cohere<5.5,>=5.0) (6.0.2)\n",
      "Requirement already satisfied: tqdm>=4.42.1 in /usr/local/lib/python3.9/site-packages (from huggingface-hub<1.0,>=0.16.4->tokenizers<0.20,>=0.19->cohere<5.5,>=5.0) (4.67.1)\n",
      "Requirement already satisfied: exceptiongroup>=1.0.2 in /usr/local/lib/python3.9/site-packages (from anyio->httpx>=0.21.2->cohere<5.5,>=5.0) (1.2.2)\n",
      "Requirement already satisfied: sniffio>=1.1 in /usr/local/lib/python3.9/site-packages (from anyio->httpx>=0.21.2->cohere<5.5,>=5.0) (1.3.1)\n",
      "Requirement already satisfied: six>=1.5 in /usr/local/lib/python3.9/site-packages (from python-dateutil<3.0.0,>=2.1->botocore<1.38.0,>=1.37.35->boto3<2.0.0,>=1.34.0->cohere<5.5,>=5.0) (1.17.0)\n",
      "Downloading cohere-5.4.0-py3-none-any.whl (158 kB)\n",
      "Downloading boto3-1.37.35-py3-none-any.whl (139 kB)\n",
      "Downloading tokenizers-0.19.1-cp39-cp39-manylinux_2_17_x86_64.manylinux2014_x86_64.whl (3.6 MB)\n",
      "\u001b[2K   \u001b[90m━━━━━━━━━━━━━━━━━━━━━━━━━━━━━━━━━━━━━━━━\u001b[0m \u001b[32m3.6/3.6 MB\u001b[0m \u001b[31m2.2 MB/s\u001b[0m eta \u001b[36m0:00:00\u001b[0ma \u001b[36m0:00:01\u001b[0m\n",
      "\u001b[?25hDownloading types_requests-2.31.0.6-py3-none-any.whl (14 kB)\n",
      "Downloading botocore-1.37.35-py3-none-any.whl (13.5 MB)\n",
      "\u001b[2K   \u001b[90m━━━━━━━━━━━━━━━━━━━━━━━━━━━━━━━━━━━━━━━━\u001b[0m \u001b[32m13.5/13.5 MB\u001b[0m \u001b[31m1.1 MB/s\u001b[0m eta \u001b[36m0:00:00\u001b[0m00:01\u001b[0m00:01\u001b[0m\n",
      "\u001b[?25hDownloading urllib3-1.26.20-py2.py3-none-any.whl (144 kB)\n",
      "Downloading jmespath-1.0.1-py3-none-any.whl (20 kB)\n",
      "Downloading s3transfer-0.11.4-py3-none-any.whl (84 kB)\n",
      "Downloading types_urllib3-1.26.25.14-py3-none-any.whl (15 kB)\n",
      "Installing collected packages: types-urllib3, urllib3, types-requests, jmespath, botocore, s3transfer, tokenizers, boto3, cohere\n",
      "  Attempting uninstall: urllib3\n",
      "    Found existing installation: urllib3 2.4.0\n",
      "    Uninstalling urllib3-2.4.0:\n",
      "      Successfully uninstalled urllib3-2.4.0\n",
      "  Attempting uninstall: types-requests\n",
      "    Found existing installation: types-requests 2.32.0.20250328\n",
      "    Uninstalling types-requests-2.32.0.20250328:\n",
      "      Successfully uninstalled types-requests-2.32.0.20250328\n",
      "  Attempting uninstall: tokenizers\n",
      "    Found existing installation: tokenizers 0.21.1\n",
      "    Uninstalling tokenizers-0.21.1:\n",
      "      Successfully uninstalled tokenizers-0.21.1\n",
      "  Attempting uninstall: cohere\n",
      "    Found existing installation: cohere 4.10.0\n",
      "    Uninstalling cohere-4.10.0:\n",
      "      Successfully uninstalled cohere-4.10.0\n",
      "Successfully installed boto3-1.37.35 botocore-1.37.35 cohere-5.4.0 jmespath-1.0.1 s3transfer-0.11.4 tokenizers-0.19.1 types-requests-2.31.0.6 types-urllib3-1.26.25.14 urllib3-1.26.20\n",
      "\u001b[33mWARNING: Running pip as the 'root' user can result in broken permissions and conflicting behaviour with the system package manager, possibly rendering your system unusable. It is recommended to use a virtual environment instead: https://pip.pypa.io/warnings/venv. Use the --root-user-action option if you know what you are doing and want to suppress this warning.\u001b[0m\u001b[33m\n",
      "\u001b[0m"
     ]
    }
   ],
   "source": [
    "# !pip install cohere==4.10.0\n",
    "!pip install \"cohere>=5.0,<5.5\""
   ]
  },
  {
   "cell_type": "code",
   "execution_count": 20,
   "metadata": {
    "id": "LjsIFVbtKBu4"
   },
   "outputs": [
    {
     "name": "stdin",
     "output_type": "stream",
     "text": [
      "OpenAI API key:  ········\n"
     ]
    }
   ],
   "source": [
    "import os\n",
    "from getpass import getpass\n",
    "# from semantic_router.encoders import OpenAIEncoder\n",
    "from semantic_router.encoders.openai import OpenAIEncoder\n",
    "\n",
    "os.environ[\"OPENAI_API_KEY\"] = os.getenv(\"OPENAI_API_KEY\") or getpass(\"OpenAI API key: \")\n",
    "\n",
    "encoder = OpenAIEncoder(name=\"text-embedding-3-small\")"
   ]
  },
  {
   "cell_type": "code",
   "execution_count": 21,
   "metadata": {},
   "outputs": [
    {
     "name": "stdout",
     "output_type": "stream",
     "text": [
      "from typing import List, Optional\n",
      "\n",
      "from semantic_router.encoders.base import BaseEncoder\n",
      "from semantic_router.encoders.bedrock import BedrockEncoder\n",
      "from semantic_router.encoders.bm25 import BM25Encoder\n",
      "from semantic_router.encoders.clip import CLIPEncoder\n",
      "#from semantic_router.encoders.cohere import CohereEncoder\n",
      "from semantic_router.encoders.fastembed import FastEmbedEncoder\n",
      "from semantic_router.encoders.google import GoogleEncoder\n",
      "from semantic_router.encoders.huggingface import HuggingFaceEncoder\n",
      "from semantic_router.encoders.huggingface import HFEndpointEncoder\n",
      "from semantic_router.encoders.mistral import MistralEncoder\n",
      "from semantic_router.encoders.openai import OpenAIEncoder\n",
      "from semantic_router.encoders.tfidf import TfidfEncoder\n",
      "from semantic_router.encoders.vit import VitEncoder\n",
      "from semantic_router.encoders.zure import AzureOpenAIEncoder\n",
      "from semantic_router.schema import EncoderType\n",
      "\n",
      "__all__ = [\n",
      "    \"BaseEncoder\",\n",
      "    \"AzureOpenAIEncoder\",\n",
      "    \"CohereEncoder\",\n",
      "    \"OpenAIEncoder\",\n",
      "    \"BM25Encoder\",\n",
      "    \"TfidfEncoder\",\n",
      "    \"FastEmbedEncoder\",\n",
      "    \"HuggingFaceEncoder\",\n",
      "    \"HFEndpointEncoder\",\n",
      "    \"MistralEncoder\",\n",
      "    \"VitEncoder\",\n",
      "    \"CLIPEncoder\",\n",
      "    \"GoogleEncoder\",\n",
      "    \"BedrockEncoder\",\n",
      "]\n",
      "\n",
      "\n",
      "class AutoEncoder:\n",
      "    type: EncoderType\n",
      "    name: Optional[str]\n",
      "    model: BaseEncoder\n",
      "\n",
      "    def __init__(self, type: str, name: Optional[str]):\n",
      "        self.type = EncoderType(type)\n",
      "        self.name = name\n",
      "        if self.type == EncoderType.AZURE:\n",
      "            # TODO should change `model` to `name` JB\n",
      "            self.model = AzureOpenAIEncoder(model=name)\n",
      "        elif self.type == EncoderType.COHERE:\n",
      "            self.model = CohereEncoder(name=name)\n",
      "        elif self.type == EncoderType.OPENAI:\n",
      "            self.model = OpenAIEncoder(name=name)\n",
      "        elif self.type == EncoderType.BM25:\n",
      "            if name is None:\n",
      "                name = \"bm25\"\n",
      "            self.model = BM25Encoder(name=name)\n",
      "        elif self.type == EncoderType.TFIDF:\n",
      "            if name is None:\n",
      "                name = \"tfidf\"\n",
      "            self.model = TfidfEncoder(name=name)\n",
      "        elif self.type == EncoderType.FASTEMBED:\n",
      "            self.model = FastEmbedEncoder(name=name)\n",
      "        elif self.type == EncoderType.HUGGINGFACE:\n",
      "            self.model = HuggingFaceEncoder(name=name)\n",
      "        elif self.type == EncoderType.MISTRAL:\n",
      "            self.model = MistralEncoder(name=name)\n",
      "        elif self.type == EncoderType.VIT:\n",
      "            self.model = VitEncoder(name=name)\n",
      "        elif self.type == EncoderType.CLIP:\n",
      "            self.model = CLIPEncoder(name=name)\n",
      "        elif self.type == EncoderType.GOOGLE:\n",
      "            self.model = GoogleEncoder(name=name)\n",
      "        elif self.type == EncoderType.BEDROCK:\n",
      "            self.model = BedrockEncoder(name=name)  # type: ignore\n",
      "        else:\n",
      "            raise ValueError(f\"Encoder type '{type}' not supported\")\n",
      "\n",
      "    def __call__(self, texts: List[str]) -> List[List[float]]:\n",
      "        return self.model(texts)\n"
     ]
    }
   ],
   "source": [
    "!cat /usr/local/lib/python3.9/site-packages/semantic_router/encoders/__init__.py"
   ]
  },
  {
   "cell_type": "code",
   "execution_count": 22,
   "metadata": {
    "id": "J233t2I4HmjD"
   },
   "outputs": [
    {
     "name": "stdin",
     "output_type": "stream",
     "text": [
      "Pinecone API key:  ········\n"
     ]
    }
   ],
   "source": [
    "from pinecone import Pinecone\n",
    "\n",
    "# initialize connection to pinecone (get API key at app.pinecone.io)\n",
    "api_key = os.getenv(\"PINECONE_API_KEY\") or getpass(\"Pinecone API key: \")\n",
    "\n",
    "# configure client\n",
    "pc = Pinecone(api_key=api_key)"
   ]
  },
  {
   "cell_type": "code",
   "execution_count": 26,
   "metadata": {
    "id": "actWflaEKgVb"
   },
   "outputs": [],
   "source": [
    "from pinecone import ServerlessSpec\n",
    "\n",
    "# spec = ServerlessSpec(\n",
    "#     cloud=\"aws\", region=\"us-west-2\"  # us-east-1\n",
    "# )\n",
    "\n",
    "spec = ServerlessSpec(\n",
    "    cloud='aws',       # or 'gcp' if needed\n",
    "    region='us-east-1' # <-- supported for free tier\n",
    ")"
   ]
  },
  {
   "cell_type": "code",
   "execution_count": 27,
   "metadata": {
    "colab": {
     "base_uri": "https://localhost:8080/"
    },
    "id": "jWijfk8LKil7",
    "outputId": "44740df7-25b2-455f-9856-bd24e8f11b1d"
   },
   "outputs": [
    {
     "data": {
      "text/plain": [
       "1536"
      ]
     },
     "execution_count": 27,
     "metadata": {},
     "output_type": "execute_result"
    }
   ],
   "source": [
    "dims = len(encoder([\"some random text\"])[0])\n",
    "dims"
   ]
  },
  {
   "cell_type": "code",
   "execution_count": 28,
   "metadata": {
    "colab": {
     "base_uri": "https://localhost:8080/"
    },
    "id": "V-GHzWs3KlJn",
    "outputId": "8636719c-ae83-451b-e230-f2bb209d67a9"
   },
   "outputs": [
    {
     "data": {
      "text/plain": [
       "{'dimension': 1536,\n",
       " 'index_fullness': 0.0,\n",
       " 'namespaces': {},\n",
       " 'total_vector_count': 0}"
      ]
     },
     "execution_count": 28,
     "metadata": {},
     "output_type": "execute_result"
    }
   ],
   "source": [
    "import time\n",
    "\n",
    "index_name = \"gpt-4o-research-agent\"\n",
    "\n",
    "# check if index already exists (it shouldn't if this is first time)\n",
    "if index_name not in pc.list_indexes().names():\n",
    "    # if does not exist, create index\n",
    "    pc.create_index(\n",
    "        index_name,\n",
    "        dimension=dims,  # dimensionality of embed 3\n",
    "        metric='dotproduct',\n",
    "        spec=spec\n",
    "    )\n",
    "    # wait for index to be initialized\n",
    "    while not pc.describe_index(index_name).status['ready']:\n",
    "        time.sleep(1)\n",
    "\n",
    "# connect to index\n",
    "index = pc.Index(index_name)\n",
    "time.sleep(1)\n",
    "# view index stats\n",
    "index.describe_index_stats()"
   ]
  },
  {
   "cell_type": "markdown",
   "metadata": {
    "id": "vwNPeBbZK0hx"
   },
   "source": [
    "Populate our knowledge base:"
   ]
  },
  {
   "cell_type": "code",
   "execution_count": 29,
   "metadata": {
    "colab": {
     "base_uri": "https://localhost:8080/",
     "height": 69,
     "referenced_widgets": [
      "925f65b6b0cc47be803c021f644a8f84",
      "24a571b8cc864f60bea7ae90ef331b21",
      "45580486ce0742b29d0de17850c42060",
      "f1f07bc63a234590ac229d63217e197a",
      "a6d67d04d1c8432c8840f411027a0e79",
      "c52a55d3643b4f1c83bdf1b1b5fce242",
      "7de73bce9c0540e2b3b2c599d57ae215",
      "84c25583658a4f4caeedbc19dd29457a",
      "a9594c4de9734895862a48f90bc8c621",
      "48ec484f11324501b1020314d4989da6",
      "bfecdc3138334cd1adcd055f338060d1"
     ]
    },
    "id": "5iQ2YJPeK2Us",
    "outputId": "823fcf4f-3735-4a85-e041-0b87df7bdb56"
   },
   "outputs": [
    {
     "name": "stderr",
     "output_type": "stream",
     "text": [
      "100%|██████████| 79/79 [14:17<00:00, 10.85s/it]\n"
     ]
    }
   ],
   "source": [
    "from tqdm.auto import tqdm\n",
    "\n",
    "# easier to work with dataset as pandas dataframe\n",
    "data = dataset.to_pandas().iloc[:10000]\n",
    "\n",
    "batch_size = 128\n",
    "\n",
    "for i in tqdm(range(0, len(data), batch_size)):\n",
    "    i_end = min(len(data), i+batch_size)\n",
    "    batch = data[i:i_end].to_dict(orient=\"records\")\n",
    "    # get batch of data\n",
    "    metadata = [{\n",
    "        \"title\": r[\"title\"],\n",
    "        \"content\": r[\"content\"],\n",
    "        \"arxiv_id\": r[\"arxiv_id\"],\n",
    "        \"references\": r[\"references\"].tolist()\n",
    "    } for r in batch]\n",
    "    # generate unique ids for each chunk\n",
    "    ids = [r[\"id\"] for r in batch]\n",
    "    # get text content to embed\n",
    "    content = [r[\"content\"] for r in batch]\n",
    "    # embed text\n",
    "    embeds = encoder(content)\n",
    "    # add to Pinecone\n",
    "    index.upsert(vectors=zip(ids, embeds, metadata))"
   ]
  },
  {
   "cell_type": "markdown",
   "metadata": {
    "id": "hITmdwQ7Qns0"
   },
   "source": [
    "## Graph State\n",
    "\n",
    "We will define a custom graph state to support our agent-oriented decision making."
   ]
  },
  {
   "cell_type": "code",
   "execution_count": 30,
   "metadata": {
    "id": "x7Fj9KNjQvUq"
   },
   "outputs": [],
   "source": [
    "from typing import TypedDict, Annotated, List, Union\n",
    "from langchain_core.agents import AgentAction, AgentFinish\n",
    "from langchain_core.messages import BaseMessage\n",
    "import operator\n",
    "\n",
    "\n",
    "class AgentState(TypedDict):\n",
    "    input: str\n",
    "    chat_history: list[BaseMessage]\n",
    "    intermediate_steps: Annotated[list[tuple[AgentAction, str]], operator.add]"
   ]
  },
  {
   "cell_type": "markdown",
   "metadata": {
    "id": "Fp4uQFBKQdyI"
   },
   "source": [
    "There are four parts to our agent state, those are:\n",
    "\n",
    "* `input`: this is the user's most recent query, usually this would be a question that we want to answer with our research agent.\n",
    "* `chat_history`: we are building a conversational agent that can support multiple interactions, to allow previous interactions to provide additional context throughout our agent logic we include the chat history in the agent state.\n",
    "* `intermediate_steps`: provides a record of all steps the research agent will take between the user asking a question via `input` and the agent providing a final answer. This can include things like \"search arxiv\", \"perform general purpose web search\", etc. These intermediate steps are crucial to allowing the agent to follow a path of coherent actions and ultimately producing an informed final answer."
   ]
  },
  {
   "cell_type": "markdown",
   "metadata": {
    "id": "zlVbgX39Rhxj"
   },
   "source": [
    "## Custom Tools"
   ]
  },
  {
   "cell_type": "markdown",
   "metadata": {
    "id": "io-lnbpgKHzy"
   },
   "source": [
    "We will define several tools for this agent that will focus on initial data discovery, that will allow the LLM to use more tools to research more deeply via a variety of different routes."
   ]
  },
  {
   "cell_type": "markdown",
   "metadata": {
    "id": "v9MYnZvtF9WN"
   },
   "source": [
    "### ArXiv Paper Fetch"
   ]
  },
  {
   "cell_type": "markdown",
   "metadata": {
    "id": "VQZjy5TZGAFB"
   },
   "source": [
    "The `fetch_arxiv` tool will allow our agent to get the summary of a specific paper given an ArXiv paper ID. To do this, we will simply send a GET request to arXiv and use regex to extract the paper abstract."
   ]
  },
  {
   "cell_type": "code",
   "execution_count": 31,
   "metadata": {
    "colab": {
     "base_uri": "https://localhost:8080/",
     "height": 159
    },
    "id": "B2W-V1cOGzwJ",
    "outputId": "37a39e8c-491c-448f-f0ba-86818e8353ca"
   },
   "outputs": [
    {
     "data": {
      "text/plain": [
       "'<?xml version=\"1.0\" encoding=\"UTF-8\"?>\\n<!DOCTYPE html PUBLIC \"-//W3C//DTD XHTML 1.0 Transitional//EN\" \"http://www.w3.org/TR/xhtml1/DTD/xhtml1-transitional.dtd\">\\n<html xmlns=\"http://www.w3.org/1999/xhtml\" lang=\"en\">\\n<head>\\n<title>[2401.04088] Mixtral of Experts</title>\\n<link rel=\"shortcut icon\" href=\"/favicon.ico\" type=\"image/x-icon\" />\\n<link rel=\"stylesheet\" type=\"text/css\" media=\"screen\" href=\"/css/arXiv-export.css\" />\\n<link rel=\"stylesheet\" type=\"text/css\" media=\"screen\" href=\"/bibex/bibex.css?20181009\">\\n<link rel=\"stylesheet\" type=\"text/css\" media=\"screen\" href=\"https://static.arxiv.org/static/browse/0.3.8/css/browse_search.css\" />\\n<meta name=\"citation_title\" content=\"Mixtral of Experts\" />\\n<meta name=\"citation_author\" content=\"Jiang, Albert Q.\" />\\n<meta name=\"citation_author\" content=\"Sablayrolles, Alexandre\" />\\n<meta name=\"citation_author\" content=\"Roux, Antoine\" />\\n<meta name=\"citation_author\" content=\"Mensch, Arthur\" />\\n<meta name=\"citation_author\" content=\"Savary, Blanche\" />\\n<meta name=\"citation_author\" content=\"Bamford, Chris\" />\\n<meta name=\"citation_author\" content=\"Chaplot, Devendra Singh\" />\\n<meta name=\"citation_author\" content=\"Casas, Diego de las\" />\\n<meta name=\"citation_author\" content=\"Hanna, Emma Bou\" />\\n<meta name=\"citation_author\" content=\"Bressand, Florian\" />\\n<meta name=\"citation_author\" content=\"Lengyel, Gianna\" />\\n<meta name=\"citation_author\" content=\"Bour, Guillaume\" />\\n<meta name=\"citation_author\" content=\"Lample, Guillaume\" />\\n<meta name=\"citation_author\" content=\"Lavaud, L&#xe9;lio Renard\" />\\n<meta name=\"citation_author\" content=\"Saulnier, Lucile\" />\\n<meta name=\"citation_author\" content=\"Lachaux, Marie-Anne\" />\\n<meta name=\"citation_author\" content=\"Stock, Pierre\" />\\n<meta name=\"citation_author\" content=\"Subramanian, Sandeep\" />\\n<meta name=\"citation_author\" content=\"Yang, Sophia\" />\\n<meta name=\"citation_author\" content=\"Antoniak, Szymon\" />\\n<meta name=\"citation_author\" content=\"Scao, Teven Le\" />\\n<meta name=\"citation_author\" content=\"Gervet, Th&#xe9;ophile\" />\\n<meta name=\"citation_author\" content=\"Lavril, Thibaut\" />\\n<meta name=\"citation_author\" content=\"Wang, Thomas\" />\\n<meta name=\"citation_author\" content=\"Lacroix, Timoth&#xe9;e\" />\\n<meta name=\"citation_author\" content=\"Sayed, William El\" />\\n<meta name=\"citation_date\" content=\"2024/01/08\" />\\n<meta name=\"citation_online_date\" content=\"2024/01/08\" />\\n<meta name=\"citation_pdf_url\" content=\"http://arxiv.org/pdf/2401.04088\" />\\n<meta name=\"citation_arxiv_id\" content=\"2401.04088\" />\\n<script src=\"/js/mathjaxToggle.min.js\" type=\"text/javascript\"></script>\\n\\n\\n</head>\\n<body class=\"with-cu-identity\">\\n\\n<div id=\"cu-identity\">\\n<div id=\"cu-logo\">\\n<a href=\"https://www.cornell.edu/\"><img src=\"//static.arxiv.org/icons/cu/cornell-reduced-white-SMALL.svg\" alt=\"Cornell University\" width=\"200\" border=\"0\" /></a>\\n</div>\\n<div id=\"support-ack\">\\n<a href=\"https://confluence.cornell.edu/x/ALlRF\">We gratefully acknowledge support from<br /> the Simons Foundation and member institutions.</a>\\n</div>\\n</div>\\n<div id=\"header\">\\n<h1 class=\"header-breadcrumbs\"><a href=\"/\"><img src=\"//static.arxiv.org/images/arxiv-logo-one-color-white.svg\" aria-label=\"logo\" alt=\"arxiv logo\" width=\"85\" style=\"width:85px;margin-right:8px;\"></a> <span>&gt;</span> <a href=\"/list/cs/recent\">cs</a> <span>&gt;</span> arXiv:2401.04088</h1>\\n<div id=\"search\">\\n<form id=\"search-arxiv\" method=\"post\" action=\"/search_classic\">\\n\\n<div class=\"wrapper-search-arxiv\">\\n<input class=\"keyword-field\" type=\"text\" name=\"query\" placeholder=\"Search or Article ID\"/>\\n\\n<div class=\"filter-field\">\\n <select name=\"searchtype\">\\n<option value=\"all\" selected=\"selected\">All papers</option>\\n<option value=\"ti\">Titles</option>\\n<option value=\"au\">Authors</option>\\n<option value=\"abs\">Abstracts</option>\\n<option value=\"ft\">Full text</option>\\n</select>\\n</div>\\n<input class=\"btn-search-arxiv\" value=\"\" type=\"submit\">\\n<div class=\"links\">(<a href=\"https://info.arxiv.org/help\">Help</a> | <a href=\"/find\">Advanced search</a>)</div>\\n</div>\\n</form>\\n</div>\\n</div>\\n<div id=\"content\">\\n\\n<!--\\n<rdf:RDF xmlns:rdf=\"http://www.w3.org/1999/02/22-rdf-syntax-ns#\"\\n         xmlns:dc=\"http://purl.org/dc/elements/1.1/\"\\n         xmlns:trackback=\"http://madskills.com/public/xml/rss/module/trackback/\">\\n    <rdf:Description\\n        rdf:about=\"http://arxiv.org/abs/2401.04088\"\\n        dc:identifier=\"http://arxiv.org/abs/2401.04088\"\\n        dc:title=\"Mixtral of Experts\"\\n        trackback:ping=\"http://arxiv.org/trackback/2401.04088\" />\\n    </rdf:RDF>\\n-->\\n\\n<div id=\"abs\">\\n<div class=\"extra-services\">\\n\\n<div class=\"full-text\">\\n<span class=\"descriptor\">Full-text links:</span>\\n<h2>Download:</h2>\\n<ul>\\n<li><a href=\"/pdf/2401.04088\" accesskey=\"f\">PDF</a></li>\\n<li><a href=\"/format/2401.04088\">Other formats</a></li>\\n</ul>\\n<div class=\"abs-license\"><a href=\"http://creativecommons.org/licenses/by/4.0/\" title=\"Rights to this article\"><img src=\"/icons/licenses/by-4.0.png\"/></a></div>\\n</div><!--end full-text-->\\n\\n<div class=\"browse\">\\n<h3>Current browse context:</h3>\\n<div class=\"current\">cs.LG</div>\\n<div class=\"prevnext\"><span class=\"arrow\"><a href=\"http://arxiv.org/prevnext?site=export.arxiv.org&amp;id=2401.04088&amp;context=cs.LG&amp;function=prev\" accesskey=\"p\" title=\"previous in cs.LG (accesskey p)\">&lt;&nbsp;prev</a></span>&nbsp;|&nbsp;<span class=\"arrow\"><a href=\"http://arxiv.org/prevnext?site=export.arxiv.org&amp;id=2401.04088&amp;context=cs.LG&amp;function=next\" accesskey=\"n\" title=\"next in cs.LG (accesskey n)\">next&nbsp;&gt;</a></span>\\n<br /></div>\\n<div class=\"list\"><a href=\"/list/cs.LG/new\">new</a>&nbsp;| <a href=\"/list/cs.LG/recent\">recent</a>&nbsp;| <a href=\"/list/cs.LG/2401\">2401</a></div><h3>Change to browse by:</h3><div class=\"switch\">\\n<a href=\"/abs/2401.04088?context=cs\">cs</a><br />\\n<span class=\"subclass\"><a href=\"/abs/2401.04088?context=cs.CL\">cs.CL</a></span>\\n</div>\\n\\n</div>\\n<div class=\"extra-ref-cite\">\\n<h3>References &amp; Citations</h3><ul><li><a href=\"http://adsabs.harvard.edu/cgi-bin/bib_query?arXiv:2401.04088\">NASA ADS</a></li>\\n</ul>\\n\\n</div>\\n<div class=\"dblp\">\\n<h3><a href=\"http://www.informatik.uni-trier.de/~ley/db/\">DBLP</a> - CS Bibliography</h3><div class=\"list\">\\n<a href=\"http://www.informatik.uni-trier.de/~ley/db/journals/corr/corr2401.html#abs-2401-04088\">listing</a> | <a href=\"http://dblp.uni-trier.de/rec/bibtex/journals/corr/abs-2401-04088\">bibtex</a>\\n</div>\\n\\n</div>\\n<div class=\"bookmarks\">\\n<div class=\"what-is-this\">\\n<h3>Bookmark</h3> (<a href=\"https://info.arxiv.org/help/social_bookmarking\">what is this?</a>)\\n</div>\\n<a href=\"http://arxiv.org/ct?url=http%3A%2F%2Fwww.citeulike.org%2Fposturl%3Furl%3Dhttp%3A%2F%2Farxiv.org%2Fabs%2F2401.04088%26title%3DMixtral%2520of%2520Experts%26authors%3D&amp;v=354d162e\" title=\"Bookmark on CiteULike\"><img src=\"//static.arxiv.org/icons/social/citeulike.png\" alt=\"CiteULike logo\" /></a>\\n<a href=\"http://arxiv.org/ct?url=http%3A%2F%2Fwww.bibsonomy.org%2FBibtexHandler%3FrequTask%3Dupload%26url%3Dhttp%3A%2F%2Farxiv.org%2Fabs%2F2401.04088%26description%3DMixtral%2520of%2520Experts&amp;v=bef47afc\" title=\"Bookmark on BibSonomy\"><img src=\"//static.arxiv.org/icons/social/bibsonomy.png\" alt=\"BibSonomy logo\" /></a>\\n<a href=\"http://arxiv.org/ct?url=https%3A%2F%2Fwww.mendeley.com%2Fimport%2F%3Furl%3Dhttp%3A%2F%2Farxiv.org%2Fabs%2F2401.04088&amp;v=be336fd9\" title=\"Bookmark on Mendeley\"><img src=\"//static.arxiv.org/icons/social/mendeley.png\" alt=\"Mendeley logo\" /></a>\\n<a href=\"http://arxiv.org/ct?url=https%3A%2F%2Fdel.icio.us%2Fpost%3Furl%3Dhttp%3A%2F%2Farxiv.org%2Fabs%2F2401.04088%26description%3DMixtral%2520of%2520Experts&amp;v=827de2f6\" title=\"Bookmark on del.icio.us\"><img src=\"//static.arxiv.org/icons/social/delicious.png\" alt=\"del.icio.us logo\" /></a>\\n<a href=\"http://arxiv.org/ct?url=https%3A%2F%2Fdigg.com%2Fsubmit%3Furl%3Dhttp%3A%2F%2Farxiv.org%2Fabs%2F2401.04088%26title%3DMixtral%2520of%2520Experts&amp;v=8d5c0d57\" title=\"Bookmark on Digg\"><img src=\"//static.arxiv.org/icons/social/digg.png\" alt=\"Digg logo\" /></a>\\n<a href=\"http://arxiv.org/ct?url=https%3A%2F%2Freddit.com%2Fsubmit%3Furl%3Dhttp%3A%2F%2Farxiv.org%2Fabs%2F2401.04088%26title%3DMixtral%2520of%2520Experts&amp;v=14eafc8c\" title=\"Bookmark on Reddit\"><img src=\"//static.arxiv.org/icons/social/reddit.png\" alt=\"Reddit logo\" /></a>\\n\\n</div>\\n</div><!--end extra-services-->\\n\\n<div class=\"leftcolumn\">\\n<div class=\"subheader\">\\n<h1>Computer Science > Machine Learning</h1>\\n</div>\\n<h1 class=\"title mathjax\"><span class=\"descriptor\">Title:</span>\\nMixtral of Experts</h1>\\n<div class=\"authors\"><span class=\"descriptor\">Authors:</span>\\n<a href=\"/find/cs/1/au:+Jiang_A/0/1/0/all/0/1\">Albert Q. Jiang</a>, \\n<a href=\"/find/cs/1/au:+Sablayrolles_A/0/1/0/all/0/1\">Alexandre Sablayrolles</a>, \\n<a href=\"/find/cs/1/au:+Roux_A/0/1/0/all/0/1\">Antoine Roux</a>, \\n<a href=\"/find/cs/1/au:+Mensch_A/0/1/0/all/0/1\">Arthur Mensch</a>, \\n<a href=\"/find/cs/1/au:+Savary_B/0/1/0/all/0/1\">Blanche Savary</a>, \\n<a href=\"/find/cs/1/au:+Bamford_C/0/1/0/all/0/1\">Chris Bamford</a>, \\n<a href=\"/find/cs/1/au:+Chaplot_D/0/1/0/all/0/1\">Devendra Singh Chaplot</a>, \\n<a href=\"/find/cs/1/au:+Casas_D/0/1/0/all/0/1\">Diego de las Casas</a>, \\n<a href=\"/find/cs/1/au:+Hanna_E/0/1/0/all/0/1\">Emma Bou Hanna</a>, \\n<a href=\"/find/cs/1/au:+Bressand_F/0/1/0/all/0/1\">Florian Bressand</a>, \\n<a href=\"/find/cs/1/au:+Lengyel_G/0/1/0/all/0/1\">Gianna Lengyel</a>, \\n<a href=\"/find/cs/1/au:+Bour_G/0/1/0/all/0/1\">Guillaume Bour</a>, \\n<a href=\"/find/cs/1/au:+Lample_G/0/1/0/all/0/1\">Guillaume Lample</a>, \\n<a href=\"/find/cs/1/au:+Lavaud_L/0/1/0/all/0/1\">L&#xe9;lio Renard Lavaud</a>, \\n<a href=\"/find/cs/1/au:+Saulnier_L/0/1/0/all/0/1\">Lucile Saulnier</a>, \\n<a href=\"/find/cs/1/au:+Lachaux_M/0/1/0/all/0/1\">Marie-Anne Lachaux</a>, \\n<a href=\"/find/cs/1/au:+Stock_P/0/1/0/all/0/1\">Pierre Stock</a>, \\n<a href=\"/find/cs/1/au:+Subramanian_S/0/1/0/all/0/1\">Sandeep Subramanian</a>, \\n<a href=\"/find/cs/1/au:+Yang_S/0/1/0/all/0/1\">Sophia Yang</a>, \\n<a href=\"/find/cs/1/au:+Antoniak_S/0/1/0/all/0/1\">Szymon Antoniak</a>, \\n<a href=\"/find/cs/1/au:+Scao_T/0/1/0/all/0/1\">Teven Le Scao</a>, \\n<a href=\"/find/cs/1/au:+Gervet_T/0/1/0/all/0/1\">Th&#xe9;ophile Gervet</a>, \\n<a href=\"/find/cs/1/au:+Lavril_T/0/1/0/all/0/1\">Thibaut Lavril</a>, \\n<a href=\"/find/cs/1/au:+Wang_T/0/1/0/all/0/1\">Thomas Wang</a>, \\n<a href=\"/find/cs/1/au:+Lacroix_T/0/1/0/all/0/1\">Timoth&#xe9;e Lacroix</a>, \\n<a href=\"/find/cs/1/au:+Sayed_W/0/1/0/all/0/1\">William El Sayed</a></div>\\n<div class=\"dateline\">(Submitted on 8 Jan 2024)</div>\\n<blockquote class=\"abstract mathjax\">\\n<span class=\"descriptor\">Abstract:</span> We introduce Mixtral 8x7B, a Sparse Mixture of Experts (SMoE) language model.\\nMixtral has the same architecture as Mistral 7B, with the difference that each\\nlayer is composed of 8 feedforward blocks (i.e. experts). For every token, at\\neach layer, a router network selects two experts to process the current state\\nand combine their outputs. Even though each token only sees two experts, the\\nselected experts can be different at each timestep. As a result, each token has\\naccess to 47B parameters, but only uses 13B active parameters during inference.\\nMixtral was trained with a context size of 32k tokens and it outperforms or\\nmatches Llama 2 70B and GPT-3.5 across all evaluated benchmarks. In particular,\\nMixtral vastly outperforms Llama 2 70B on mathematics, code generation, and\\nmultilingual benchmarks. We also provide a model fine-tuned to follow\\ninstructions, Mixtral 8x7B - Instruct, that surpasses GPT-3.5 Turbo,\\nClaude-2.1, Gemini Pro, and Llama 2 70B - chat model on human benchmarks. Both\\nthe base and instruct models are released under the Apache 2.0 license.\\n</blockquote>\\n<!--CONTEXT-->\\n<div class=\"metatable\">\\n<table summary=\"Additional metadata\">\\n<tr>\\n<td class=\"tablecell label\">Comments:\\n</td>\\n<td class=\"tablecell comments mathjax\">See more details at <a href=\"https://mistral.ai/news/mixtral-of-experts/\">this https URL</a></td>\\n</tr>\\n<tr>\\n<td class=\"tablecell label\">Subjects:\\n</td>\\n<td class=\"tablecell subjects\"><span class=\"primary-subject\">Machine Learning (cs.LG)</span>; Computation and Language (cs.CL)</td>\\n</tr>\\n<tr>\\n<td class=\"tablecell label\">\\nCite&nbsp;as:\\n</td>\\n<td class=\"tablecell arxivid\"><a href=\"/abs/2401.04088\">arXiv:2401.04088</a> [cs.LG]</td>\\n</tr>\\n<tr>\\n<td class=\"tablecell label\">&nbsp;</td>\\n<td class=\"tablecell arxividv\">(or <span class=\"arxivid\"><a href=\"/abs/2401.04088v1\">arXiv:2401.04088v1</a> [cs.LG]</span> for this version)</td>\\n</tr>\\n</table>\\n</div>\\n<div class=\"submission-history\">\\n<h2>Submission history</h2>\\nFrom: Devendra Singh Chaplot [<a href=\"https://arxiv.org/show-email/d382fa4f/2401.04088\">view email</a>]\\n<br />\\n<b>[v1]</b> Mon, 8 Jan 2024 18:47:34 GMT  (2811kb,D)<br />\\n</div>\\n<div class=\"endorsers\"><a href=\"http://arxiv.org/auth/show-endorsers/2401.04088\">Which authors of this paper are endorsers?</a> | <a id=\"mathjax_toggle\" href=\"javascript:setMathjaxCookie()\">Disable MathJax</a> (<a href=\"/help/mathjax\">What is MathJax?</a>) </div><script type=\"text/javascript\" language=\"javascript\">mathjaxToggle();</script>\\n<script src=\"/bibex/bibex.js?20181009\" type=\"text/javascript\" defer></script>\\n</div><!--end leftcolumn-->\\n</div><!--end abs-->\\n<p>Link back to: <a href=\"http://arXiv.org/\">arXiv</a>, <a href=\"http://arxiv.org/form\">form interface</a>, <a href=\"/help/contact\">contact</a>.</p>\\n</div>\\n</div>\\n <footer style=\"clear: both;\">\\n      <div class=\"columns is-desktop\" role=\"navigation\" aria-label=\"Secondary\" style=\"margin: -0.75em -0.75em 0.75em -0.75em\">\\n        <!-- Macro-Column 1 -->\\n        <div class=\"column\" style=\"padding: 0;\">\\n          <div class=\"columns\">\\n            <div class=\"column\">\\n              <ul style=\"list-style: none; line-height: 2;\">\\n                <li><a href=\"https://arxiv.org/about\">About</a></li>\\n                <li><a href=\"https://arxiv.org/help\">Help</a></li>\\n              </ul>\\n            </div>\\n            <div class=\"column\">\\n              <ul style=\"list-style: none; line-height: 2;\">\\n                <li>\\n                  <svg xmlns=\"http://www.w3.org/2000/svg\" viewBox=\"0 0 512 512\" class=\"icon filter-black\" role=\"presentation\"><title>contact arXiv</title><desc>Click here to contact arXiv</desc><path d=\"M502.3 190.8c3.9-3.1 9.7-.2 9.7 4.7V400c0 26.5-21.5 48-48 48H48c-26.5 0-48-21.5-48-48V195.6c0-5 5.7-7.8 9.7-4.7 22.4 17.4 52.1 39.5 154.1 113.6 21.1 15.4 56.7 47.8 92.2 47.6 35.7.3 72-32.8 92.3-47.6 102-74.1 131.6-96.3 154-113.7zM256 320c23.2.4 56.6-29.2 73.4-41.4 132.7-96.3 142.8-104.7 173.4-128.7 5.8-4.5 9.2-11.5 9.2-18.9v-19c0-26.5-21.5-48-48-48H48C21.5 64 0 85.5 0 112v19c0 7.4 3.4 14.3 9.2 18.9 30.6 23.9 40.7 32.4 173.4 128.7 16.8 12.2 50.2 41.8 73.4 41.4z\"/></svg>\\n                  <a href=\"https://arxiv.org/help/contact\"> Contact</a>\\n                </li>\\n                <li>\\n                  <svg xmlns=\"http://www.w3.org/2000/svg\" viewBox=\"0 0 512 512\" class=\"icon filter-black\" role=\"presentation\"><title>subscribe to arXiv mailings</title><desc>Click here to subscribe</desc><path d=\"M476 3.2L12.5 270.6c-18.1 10.4-15.8 35.6 2.2 43.2L121 358.4l287.3-253.2c5.5-4.9 13.3 2.6 8.6 8.3L176 407v80.5c0 23.6 28.5 32.9 42.5 15.8L282 426l124.6 52.2c14.2 6 30.4-2.9 33-18.2l72-432C515 7.8 493.3-6.8 476 3.2z\"/></svg>\\n                  <a href=\"https://arxiv.org/help/subscribe\"> Subscribe</a>\\n                </li>\\n              </ul>\\n            </div>\\n          </div>\\n        </div>\\n        <!-- End Macro-Column 1 -->\\n        <!-- Macro-Column 2 -->\\n        <div class=\"column\" style=\"padding: 0;\">\\n          <div class=\"columns\">\\n            <div class=\"column\">\\n              <ul style=\"list-style: none; line-height: 2;\">\\n                <li><a href=\"https://arxiv.org/help/license\">Copyright</a></li>\\n                <li><a href=\"https://arxiv.org/help/policies/privacy_policy\">Privacy Policy</a></li>\\n              </ul>\\n            </div>\\n            <div class=\"column sorry-app-links\">\\n              <ul style=\"list-style: none; line-height: 2;\">\\n                <li><a href=\"https://arxiv.org/help/web_accessibility\">Web Accessibility Assistance</a></li>\\n                <li>\\n                  <p class=\"help\">\\n                    <a class=\"a11y-main-link\" href=\"https://status.arxiv.org\" target=\"_blank\">arXiv Operational Status <svg xmlns=\"http://www.w3.org/2000/svg\" viewBox=\"0 0 256 512\" class=\"icon filter-dark_grey\" role=\"presentation\"><path d=\"M224.3 273l-136 136c-9.4 9.4-24.6 9.4-33.9 0l-22.6-22.6c-9.4-9.4-9.4-24.6 0-33.9l96.4-96.4-96.4-96.4c-9.4-9.4-9.4-24.6 0-33.9L54.3 103c9.4-9.4 24.6-9.4 33.9 0l136 136c9.5 9.4 9.5 24.6.1 34z\"/></svg></a><br>\\n                    Get status notifications via\\n                    <a class=\"is-link\" href=\"https://subscribe.sorryapp.com/24846f03/email/new\" target=\"_blank\"><svg xmlns=\"http://www.w3.org/2000/svg\" viewBox=\"0 0 512 512\" class=\"icon filter-black\" role=\"presentation\"><path d=\"M502.3 190.8c3.9-3.1 9.7-.2 9.7 4.7V400c0 26.5-21.5 48-48 48H48c-26.5 0-48-21.5-48-48V195.6c0-5 5.7-7.8 9.7-4.7 22.4 17.4 52.1 39.5 154.1 113.6 21.1 15.4 56.7 47.8 92.2 47.6 35.7.3 72-32.8 92.3-47.6 102-74.1 131.6-96.3 154-113.7zM256 320c23.2.4 56.6-29.2 73.4-41.4 132.7-96.3 142.8-104.7 173.4-128.7 5.8-4.5 9.2-11.5 9.2-18.9v-19c0-26.5-21.5-48-48-48H48C21.5 64 0 85.5 0 112v19c0 7.4 3.4 14.3 9.2 18.9 30.6 23.9 40.7 32.4 173.4 128.7 16.8 12.2 50.2 41.8 73.4 41.4z\"/></svg>email</a>\\n                    or <a class=\"is-link\" href=\"https://subscribe.sorryapp.com/24846f03/slack/new\" target=\"_blank\"><svg xmlns=\"http://www.w3.org/2000/svg\" viewBox=\"0 0 448 512\" class=\"icon filter-black\" role=\"presentation\"><path d=\"M94.12 315.1c0 25.9-21.16 47.06-47.06 47.06S0 341 0 315.1c0-25.9 21.16-47.06 47.06-47.06h47.06v47.06zm23.72 0c0-25.9 21.16-47.06 47.06-47.06s47.06 21.16 47.06 47.06v117.84c0 25.9-21.16 47.06-47.06 47.06s-47.06-21.16-47.06-47.06V315.1zm47.06-188.98c-25.9 0-47.06-21.16-47.06-47.06S139 32 164.9 32s47.06 21.16 47.06 47.06v47.06H164.9zm0 23.72c25.9 0 47.06 21.16 47.06 47.06s-21.16 47.06-47.06 47.06H47.06C21.16 243.96 0 222.8 0 196.9s21.16-47.06 47.06-47.06H164.9zm188.98 47.06c0-25.9 21.16-47.06 47.06-47.06 25.9 0 47.06 21.16 47.06 47.06s-21.16 47.06-47.06 47.06h-47.06V196.9zm-23.72 0c0 25.9-21.16 47.06-47.06 47.06-25.9 0-47.06-21.16-47.06-47.06V79.06c0-25.9 21.16-47.06 47.06-47.06 25.9 0 47.06 21.16 47.06 47.06V196.9zM283.1 385.88c25.9 0 47.06 21.16 47.06 47.06 0 25.9-21.16 47.06-47.06 47.06-25.9 0-47.06-21.16-47.06-47.06v-47.06h47.06zm0-23.72c-25.9 0-47.06-21.16-47.06-47.06 0-25.9 21.16-47.06 47.06-47.06h117.84c25.9 0 47.06 21.16 47.06 47.06 0 25.9-21.16 47.06-47.06 47.06H283.1z\"/></svg>slack</a>\\n                  </p>\\n                </li>\\n              </ul>\\n            </div>\\n          </div>\\n        </div> <!-- end MetaColumn 2 -->\\n        <!-- End Macro-Column 2 -->\\n      </div>\\n    </footer>\\n</body>\\n</html>\\n'"
      ]
     },
     "execution_count": 31,
     "metadata": {},
     "output_type": "execute_result"
    }
   ],
   "source": [
    "import requests\n",
    "\n",
    "# we will test with the mixtral paper\n",
    "arxiv_id = \"2401.04088\"\n",
    "\n",
    "res = requests.get(\n",
    "    f\"https://export.arxiv.org/abs/{arxiv_id}\"\n",
    ")\n",
    "res.text"
   ]
  },
  {
   "cell_type": "markdown",
   "metadata": {
    "id": "lPbxToG5HDm_"
   },
   "source": [
    "There's a lot going on there. Fortunately, we can use some _relatively_ straightforward regex to find the paper abstract."
   ]
  },
  {
   "cell_type": "code",
   "execution_count": 32,
   "metadata": {
    "colab": {
     "base_uri": "https://localhost:8080/"
    },
    "id": "efGqEsaAF26E",
    "outputId": "e7b050f6-1104-41aa-8087-416638c6b7bf"
   },
   "outputs": [
    {
     "name": "stdout",
     "output_type": "stream",
     "text": [
      "We introduce Mixtral 8x7B, a Sparse Mixture of Experts (SMoE) language model.\n",
      "Mixtral has the same architecture as Mistral 7B, with the difference that each\n",
      "layer is composed of 8 feedforward blocks (i.e. experts). For every token, at\n",
      "each layer, a router network selects two experts to process the current state\n",
      "and combine their outputs. Even though each token only sees two experts, the\n",
      "selected experts can be different at each timestep. As a result, each token has\n",
      "access to 47B parameters, but only uses 13B active parameters during inference.\n",
      "Mixtral was trained with a context size of 32k tokens and it outperforms or\n",
      "matches Llama 2 70B and GPT-3.5 across all evaluated benchmarks. In particular,\n",
      "Mixtral vastly outperforms Llama 2 70B on mathematics, code generation, and\n",
      "multilingual benchmarks. We also provide a model fine-tuned to follow\n",
      "instructions, Mixtral 8x7B - Instruct, that surpasses GPT-3.5 Turbo,\n",
      "Claude-2.1, Gemini Pro, and Llama 2 70B - chat model on human benchmarks. Both\n",
      "the base and instruct models are released under the Apache 2.0 license.\n"
     ]
    }
   ],
   "source": [
    "import re\n",
    "\n",
    "# our regex\n",
    "abstract_pattern = re.compile(\n",
    "    r'<blockquote class=\"abstract mathjax\">\\s*<span class=\"descriptor\">Abstract:</span>\\s*(.*?)\\s*</blockquote>',\n",
    "    re.DOTALL\n",
    ")\n",
    "\n",
    "# we search\n",
    "re_match = abstract_pattern.search(res.text)\n",
    "\n",
    "# and now let's see what we got\n",
    "print(re_match.group(1))"
   ]
  },
  {
   "cell_type": "markdown",
   "metadata": {
    "id": "1vjd5FhzHpqJ"
   },
   "source": [
    "Now we pack all of this logic into a tool for our agent to use."
   ]
  },
  {
   "cell_type": "code",
   "execution_count": 33,
   "metadata": {
    "id": "jpYR2DYsHtgb"
   },
   "outputs": [],
   "source": [
    "from langchain_core.tools import tool\n",
    "\n",
    "\n",
    "@tool(\"fetch_arxiv\")\n",
    "def fetch_arxiv(arxiv_id: str):\n",
    "    \"\"\"Gets the abstract from an ArXiv paper given the arxiv ID. Useful for\n",
    "    finding high-level context about a specific paper.\"\"\"\n",
    "    # get paper page in html\n",
    "    res = requests.get(\n",
    "        f\"https://export.arxiv.org/abs/{arxiv_id}\"\n",
    "    )\n",
    "    # search html for abstract\n",
    "    re_match = abstract_pattern.search(res.text)\n",
    "    # return abstract text\n",
    "    return re_match.group(1)"
   ]
  },
  {
   "cell_type": "markdown",
   "metadata": {
    "id": "3uydhqzKIU2F"
   },
   "source": [
    "Let's test the tool."
   ]
  },
  {
   "cell_type": "code",
   "execution_count": 34,
   "metadata": {
    "colab": {
     "base_uri": "https://localhost:8080/"
    },
    "id": "yeEnI3V7IVDe",
    "outputId": "b2d50557-a82e-49e3-e5a6-56dabd421a92"
   },
   "outputs": [
    {
     "name": "stdout",
     "output_type": "stream",
     "text": [
      "We introduce Mixtral 8x7B, a Sparse Mixture of Experts (SMoE) language model.\n",
      "Mixtral has the same architecture as Mistral 7B, with the difference that each\n",
      "layer is composed of 8 feedforward blocks (i.e. experts). For every token, at\n",
      "each layer, a router network selects two experts to process the current state\n",
      "and combine their outputs. Even though each token only sees two experts, the\n",
      "selected experts can be different at each timestep. As a result, each token has\n",
      "access to 47B parameters, but only uses 13B active parameters during inference.\n",
      "Mixtral was trained with a context size of 32k tokens and it outperforms or\n",
      "matches Llama 2 70B and GPT-3.5 across all evaluated benchmarks. In particular,\n",
      "Mixtral vastly outperforms Llama 2 70B on mathematics, code generation, and\n",
      "multilingual benchmarks. We also provide a model fine-tuned to follow\n",
      "instructions, Mixtral 8x7B - Instruct, that surpasses GPT-3.5 Turbo,\n",
      "Claude-2.1, Gemini Pro, and Llama 2 70B - chat model on human benchmarks. Both\n",
      "the base and instruct models are released under the Apache 2.0 license.\n"
     ]
    }
   ],
   "source": [
    "print(\n",
    "    fetch_arxiv.invoke(input={\"arxiv_id\": arxiv_id})\n",
    ")"
   ]
  },
  {
   "cell_type": "markdown",
   "metadata": {
    "id": "vLX1N7oWKiNZ"
   },
   "source": [
    "### Web Search"
   ]
  },
  {
   "cell_type": "markdown",
   "metadata": {
    "id": "FsOutTz9KjoL"
   },
   "source": [
    "The web search tool will provide the agent with access to web search. It will be instructed to use this for more general knowledge queries."
   ]
  },
  {
   "cell_type": "code",
   "execution_count": 35,
   "metadata": {
    "id": "vuv_exwsH8ZJ"
   },
   "outputs": [
    {
     "name": "stdin",
     "output_type": "stream",
     "text": [
      "SerpAPI key:  ········\n"
     ]
    }
   ],
   "source": [
    "from serpapi import GoogleSearch\n",
    "\n",
    "serpapi_params = {\n",
    "    \"engine\": \"google\",\n",
    "    \"api_key\": os.getenv(\"SERPAPI_KEY\") or getpass(\"SerpAPI key: \")\n",
    "}\n",
    "\n",
    "search = GoogleSearch({\n",
    "    **serpapi_params,\n",
    "    \"q\": \"coffee\"\n",
    "})\n",
    "\n",
    "results = search.get_dict()[\"organic_results\"]"
   ]
  },
  {
   "cell_type": "code",
   "execution_count": 36,
   "metadata": {
    "id": "KklJP-XSTqLG"
   },
   "outputs": [],
   "source": [
    "contexts = \"\\n---\\n\".join(\n",
    "    [\"\\n\".join([x[\"title\"], x[\"snippet\"], x[\"link\"]]) for x in results]\n",
    ")"
   ]
  },
  {
   "cell_type": "code",
   "execution_count": 37,
   "metadata": {
    "colab": {
     "base_uri": "https://localhost:8080/"
    },
    "id": "_b083gU3T-8K",
    "outputId": "830662a7-f719-4678-8ea5-85c86d4d5b24"
   },
   "outputs": [
    {
     "name": "stdout",
     "output_type": "stream",
     "text": [
      "Coffee\n",
      "Coffee is a beverage brewed from roasted, ground coffee beans. Darkly colored, bitter, and slightly acidic, coffee has a stimulating effect on humans, ...\n",
      "https://en.wikipedia.org/wiki/Coffee\n",
      "---\n",
      "Huge coffee company files for bankruptcy protection\n",
      "U.S.-based Montesanto affiliate Ally Coffee, a green coffee importer, was not included in the bankruptcy filing, according to Daily Coffee News.\n",
      "https://www.thestreet.com/retail/huge-coffee-company-files-for-bankruptcy-protection\n",
      "---\n",
      "Buy Coffee, Tea, Powders Online | The Coffee Bean & Tea ...\n",
      "Buy exceptional coffee, tea, powders, equipment and drinkware at The Coffee Bean & Tea Leaf® online store to enjoy our globally sourced products at home.\n",
      "https://www.coffeebean.com/\n",
      "---\n",
      "Peet's Coffee | The Original Craft Coffee Since 1966\n",
      "Since 1966, Peet's Coffee has sourced and offered superior coffees and teas adhered to strict high-quality and taste standards. Shop online today.\n",
      "https://www.peets.com/\n",
      "---\n",
      "Starbucks Coffee Company\n",
      "More than just great coffee. Explore the menu, sign up for Starbucks® Rewards, manage your gift card and more.\n",
      "https://www.starbucks.com/\n",
      "---\n",
      "Blue Bottle Coffee | Fresh Roasted Specialty Coffee\n",
      "Blue Bottle Coffee is a specialty coffee roaster with cafes in LA, SF, NYC, & Japan. Shop our freshly roasted specialty coffee online & in-store.\n",
      "https://bluebottlecoffee.com/?srsltid=AfmBOopd5pdF85Ly8JHZbABDNuJR1-USL7SPkfoJSfSZcOwo4zAhg2ec\n",
      "---\n",
      "r/Coffee\n",
      "Welcome to the daily /r/Coffee question thread! There are no stupid questions here, ask a question and get an answer!\n",
      "https://www.reddit.com/r/Coffee/\n"
     ]
    }
   ],
   "source": [
    "print(contexts)"
   ]
  },
  {
   "cell_type": "markdown",
   "metadata": {
    "id": "ZtmOt4nQH4KS"
   },
   "source": [
    "We put this process into a tool:"
   ]
  },
  {
   "cell_type": "code",
   "execution_count": 38,
   "metadata": {
    "id": "TYmOL54xH6GH"
   },
   "outputs": [],
   "source": [
    "@tool(\"web_search\")\n",
    "def web_search(query: str):\n",
    "    \"\"\"Finds general knowledge information using Google search. Can also be used\n",
    "    to augment more 'general' knowledge to a previous specialist query.\"\"\"\n",
    "    search = GoogleSearch({\n",
    "        **serpapi_params,\n",
    "        \"q\": query,\n",
    "        \"num\": 5\n",
    "    })\n",
    "    results = search.get_dict()[\"organic_results\"]\n",
    "    contexts = \"\\n---\\n\".join(\n",
    "        [\"\\n\".join([x[\"title\"], x[\"snippet\"], x[\"link\"]]) for x in results]\n",
    "    )\n",
    "    return contexts"
   ]
  },
  {
   "cell_type": "markdown",
   "metadata": {
    "id": "oCBZjWfAIN0N"
   },
   "source": [
    "### RAG Tools"
   ]
  },
  {
   "cell_type": "markdown",
   "metadata": {
    "id": "zY37AFP6RBOP"
   },
   "source": [
    "We provide two RAG-focused tools for our agent. The `rag_search` allows the agent to perform a simple RAG search for some information across _all_ indexed research papers. The `rag_search_filter` also searches, but _within_ a specific paper which is filtered for via the `arxiv_id` parameter.\n",
    "\n",
    "We also define the `format_rag_contexts` function to handle the transformation of our Pinecone results from a JSON object to a readble plaintext format."
   ]
  },
  {
   "cell_type": "code",
   "execution_count": 39,
   "metadata": {
    "id": "SPcrbQfdRrda"
   },
   "outputs": [],
   "source": [
    "from langchain_core.tools import tool\n",
    "\n",
    "def format_rag_contexts(matches: list):\n",
    "    contexts = []\n",
    "    for x in matches:\n",
    "        text = (\n",
    "            f\"Title: {x['metadata']['title']}\\n\"\n",
    "            f\"Content: {x['metadata']['content']}\\n\"\n",
    "            f\"ArXiv ID: {x['metadata']['arxiv_id']}\\n\"\n",
    "            f\"Related Papers: {x['metadata']['references']}\\n\"\n",
    "        )\n",
    "        contexts.append(text)\n",
    "    context_str = \"\\n---\\n\".join(contexts)\n",
    "    return context_str\n",
    "\n",
    "@tool(\"rag_search_filter\")\n",
    "def rag_search_filter(query: str, arxiv_id: str):\n",
    "    \"\"\"Finds information from our ArXiv database using a natural language query\n",
    "    and a specific ArXiv ID. Allows us to learn more details about a specific paper.\"\"\"\n",
    "    xq = encoder([query])\n",
    "    xc = index.query(vector=xq, top_k=6, include_metadata=True, filter={\"arxiv_id\": arxiv_id})\n",
    "    context_str = format_rag_contexts(xc[\"matches\"])\n",
    "    return context_str\n",
    "\n",
    "@tool(\"rag_search\")\n",
    "def rag_search(query: str):\n",
    "    \"\"\"Finds specialist information on AI using a natural language query.\"\"\"\n",
    "    xq = encoder([query])\n",
    "    xc = index.query(vector=xq, top_k=2, include_metadata=True)\n",
    "    context_str = format_rag_contexts(xc[\"matches\"])\n",
    "    return context_str"
   ]
  },
  {
   "cell_type": "markdown",
   "metadata": {
    "id": "KDBmpJ0URzKS"
   },
   "source": [
    "### Final Answer"
   ]
  },
  {
   "cell_type": "markdown",
   "metadata": {
    "id": "bWVKYuQ6R6nB"
   },
   "source": [
    "Finally, we define a \"final answer\" tool. This isn't a tool in the usual sense, instead we use it to force a particular output format from our LLM via the function/tool calling."
   ]
  },
  {
   "cell_type": "code",
   "execution_count": 40,
   "metadata": {
    "id": "UIjAlcHdfJCG"
   },
   "outputs": [],
   "source": [
    "@tool(\"final_answer\")\n",
    "def final_answer(\n",
    "    introduction: str,\n",
    "    research_steps: str,\n",
    "    main_body: str,\n",
    "    conclusion: str,\n",
    "    sources: str\n",
    "):\n",
    "    \"\"\"Returns a natural language response to the user in the form of a research\n",
    "    report. There are several sections to this report, those are:\n",
    "    - `introduction`: a short paragraph introducing the user's question and the\n",
    "    topic we are researching.\n",
    "    - `research_steps`: a few bullet points explaining the steps that were taken\n",
    "    to research your report.\n",
    "    - `main_body`: this is where the bulk of high quality and concise\n",
    "    information that answers the user's question belongs. It is 3-4 paragraphs\n",
    "    long in length.\n",
    "    - `conclusion`: this is a short single paragraph conclusion providing a\n",
    "    concise but sophisticated view on what was found.\n",
    "    - `sources`: a bulletpoint list provided detailed sources for all information\n",
    "    referenced during the research process\n",
    "    \"\"\"\n",
    "    if type(research_steps) is list:\n",
    "        research_steps = \"\\n\".join([f\"- {r}\" for r in research_steps])\n",
    "    if type(sources) is list:\n",
    "        sources = \"\\n\".join([f\"- {s}\" for s in sources])\n",
    "    return \"\""
   ]
  },
  {
   "cell_type": "markdown",
   "metadata": {
    "id": "E8OsQ3tIS-_t"
   },
   "source": [
    "## Initialize the \"Oracle\""
   ]
  },
  {
   "cell_type": "markdown",
   "metadata": {
    "id": "YykLRD5rXfr5"
   },
   "source": [
    "The **Oracle** LLM is our graph's decision maker. It decides which path we should take down our graph. It functions similarly to an agent but is much simpler and reliable.\n",
    "\n",
    "The Oracle consists of an LLM provided with a set of potential function calls (ie our tools) that it can decide to use — we force it to use _at least_ one of those tool using the `tool_choice=\"any\"` setting (see below). Our Oracle only makes the decision to use a tool, it doesn't execute the tool code itself (we do that seperately in our graph)."
   ]
  },
  {
   "cell_type": "markdown",
   "metadata": {
    "id": "lRlREI1wYSd0"
   },
   "source": [
    "### Oracle Prompt"
   ]
  },
  {
   "cell_type": "markdown",
   "metadata": {
    "id": "OFE638_CYUbf"
   },
   "source": [
    "Our prompt for the Oracle will emphasize it's decision making ability within the `system_prompt`, leave a placeholder for us to later insert `chat_history`, and provide a place for us to insert the user `input`."
   ]
  },
  {
   "cell_type": "code",
   "execution_count": 41,
   "metadata": {
    "id": "FBZrvHDAYmOP"
   },
   "outputs": [],
   "source": [
    "from langchain_core.prompts import ChatPromptTemplate, MessagesPlaceholder\n",
    "\n",
    "system_prompt = \"\"\"You are the oracle, the great AI decision maker.\n",
    "Given the user's query you must decide what to do with it based on the\n",
    "list of tools provided to you.\n",
    "\n",
    "If you see that a tool has been used (in the scratchpad) with a particular\n",
    "query, do NOT use that same tool with the same query again. Also, do NOT use\n",
    "any tool more than twice (ie, if the tool appears in the scratchpad twice, do\n",
    "not use it again).\n",
    "\n",
    "You should aim to collect information from a diverse range of sources before\n",
    "providing the answer to the user. Once you have collected plenty of information\n",
    "to answer the user's question (stored in the scratchpad) use the final_answer\n",
    "tool.\"\"\"\n",
    "\n",
    "prompt = ChatPromptTemplate.from_messages([\n",
    "    (\"system\", system_prompt),\n",
    "    MessagesPlaceholder(variable_name=\"chat_history\"),\n",
    "    (\"user\", \"{input}\"),\n",
    "    (\"assistant\", \"scratchpad: {scratchpad}\"),\n",
    "])"
   ]
  },
  {
   "cell_type": "markdown",
   "metadata": {
    "id": "euGh0137Ynxv"
   },
   "source": [
    "Next, we must initialize our `llm` (for this we use `gpt-4o`) and then create the _runnable_ pipeline of our Oracle.\n",
    "\n",
    "The runnable connects our inputs (the user `input` and `chat_history`) to our `prompt`, and our `prompt` to our `llm`. It is also where we _bind_ our tools to the LLM and enforce function calling via `tool_choice=\"any\"`."
   ]
  },
  {
   "cell_type": "code",
   "execution_count": 42,
   "metadata": {
    "id": "0gKxRe4tTBHX"
   },
   "outputs": [],
   "source": [
    "from langchain_core.messages import ToolCall, ToolMessage\n",
    "from langchain_openai import ChatOpenAI\n",
    "\n",
    "llm = ChatOpenAI(\n",
    "    model=\"gpt-4o\",\n",
    "    openai_api_key=os.environ[\"OPENAI_API_KEY\"],\n",
    "    temperature=0\n",
    ")\n",
    "\n",
    "tools=[\n",
    "    rag_search_filter,\n",
    "    rag_search,\n",
    "    fetch_arxiv,\n",
    "    web_search,\n",
    "    final_answer\n",
    "]\n",
    "\n",
    "# define a function to transform intermediate_steps from list\n",
    "# of AgentAction to scratchpad string\n",
    "def create_scratchpad(intermediate_steps: list[AgentAction]):\n",
    "    research_steps = []\n",
    "    for i, action in enumerate(intermediate_steps):\n",
    "        if action.log != \"TBD\":\n",
    "            # this was the ToolExecution\n",
    "            research_steps.append(\n",
    "                f\"Tool: {action.tool}, input: {action.tool_input}\\n\"\n",
    "                f\"Output: {action.log}\"\n",
    "            )\n",
    "    return \"\\n---\\n\".join(research_steps)\n",
    "\n",
    "oracle = (\n",
    "    {\n",
    "        \"input\": lambda x: x[\"input\"],\n",
    "        \"chat_history\": lambda x: x[\"chat_history\"],\n",
    "        \"scratchpad\": lambda x: create_scratchpad(\n",
    "            intermediate_steps=x[\"intermediate_steps\"]\n",
    "        ),\n",
    "    }\n",
    "    | prompt\n",
    "    | llm.bind_tools(tools, tool_choice=\"any\")\n",
    ")"
   ]
  },
  {
   "cell_type": "markdown",
   "metadata": {
    "id": "ESCSupKbTuVR"
   },
   "source": [
    "Test the agent quickly to confirm it is functional:"
   ]
  },
  {
   "cell_type": "code",
   "execution_count": 43,
   "metadata": {
    "colab": {
     "base_uri": "https://localhost:8080/"
    },
    "id": "p5xMQ8ajTxFQ",
    "outputId": "0e7b08bc-9b32-425b-cf57-8255b4b6591b"
   },
   "outputs": [
    {
     "data": {
      "text/plain": [
       "AIMessage(content='', additional_kwargs={'tool_calls': [{'id': 'call_ucWM5DAYZn4CnnheWyTnTLpW', 'function': {'arguments': '{\"query\": \"interesting facts about dogs\"}', 'name': 'rag_search'}, 'type': 'function'}, {'id': 'call_jy9eiGx9xIehJ0ThZzMFrIkJ', 'function': {'arguments': '{\"query\": \"interesting facts about dogs\"}', 'name': 'web_search'}, 'type': 'function'}]}, response_metadata={'token_usage': {'completion_tokens': 52, 'prompt_tokens': 539, 'total_tokens': 591, 'completion_tokens_details': {'accepted_prediction_tokens': 0, 'audio_tokens': 0, 'reasoning_tokens': 0, 'rejected_prediction_tokens': 0}, 'prompt_tokens_details': {'audio_tokens': 0, 'cached_tokens': 0}}, 'model_name': 'gpt-4o-2024-08-06', 'system_fingerprint': 'fp_f5bdcc3276', 'finish_reason': 'tool_calls', 'logprobs': None}, id='run-3c9c1c70-95b5-401b-a330-3594324ebe09-0', tool_calls=[{'name': 'rag_search', 'args': {'query': 'interesting facts about dogs'}, 'id': 'call_ucWM5DAYZn4CnnheWyTnTLpW'}, {'name': 'web_search', 'args': {'query': 'interesting facts about dogs'}, 'id': 'call_jy9eiGx9xIehJ0ThZzMFrIkJ'}], usage_metadata={'input_tokens': 539, 'output_tokens': 52, 'total_tokens': 591})"
      ]
     },
     "execution_count": 43,
     "metadata": {},
     "output_type": "execute_result"
    }
   ],
   "source": [
    "inputs = {\n",
    "    \"input\": \"tell me something interesting about dogs\",\n",
    "    \"chat_history\": [],\n",
    "    \"intermediate_steps\": [],\n",
    "}\n",
    "out = oracle.invoke(inputs)\n",
    "out"
   ]
  },
  {
   "cell_type": "markdown",
   "metadata": {
    "id": "zTwZ-7ZtZXq2"
   },
   "source": [
    "It is running but we are returning a lot of output here, we can narrow this down to what we need — ie, the chosen tool name and generated input args for the tool."
   ]
  },
  {
   "cell_type": "code",
   "execution_count": 44,
   "metadata": {
    "colab": {
     "base_uri": "https://localhost:8080/",
     "height": 55
    },
    "id": "u7wUMr2BUBt7",
    "outputId": "c32b2241-8657-4845-da30-78519e8b9473"
   },
   "outputs": [
    {
     "data": {
      "text/plain": [
       "'rag_search'"
      ]
     },
     "execution_count": 44,
     "metadata": {},
     "output_type": "execute_result"
    }
   ],
   "source": [
    "out.tool_calls[0][\"name\"]"
   ]
  },
  {
   "cell_type": "code",
   "execution_count": 45,
   "metadata": {
    "colab": {
     "base_uri": "https://localhost:8080/"
    },
    "id": "se0M1pbnaFyi",
    "outputId": "f224b27c-357f-4b7d-d596-465f8c53f61f"
   },
   "outputs": [
    {
     "data": {
      "text/plain": [
       "{'query': 'interesting facts about dogs'}"
      ]
     },
     "execution_count": 45,
     "metadata": {},
     "output_type": "execute_result"
    }
   ],
   "source": [
    "out.tool_calls[0][\"args\"]"
   ]
  },
  {
   "cell_type": "markdown",
   "metadata": {
    "id": "lbO6IMEZaK4q"
   },
   "source": [
    "We can see now that our Oracle decided to use the `web_search` tool with a `query` of `\"interesting facts about dogs\"` — a good choice."
   ]
  },
  {
   "cell_type": "markdown",
   "metadata": {
    "id": "h6pAxC9kcY1F"
   },
   "source": [
    "## Define Nodes for Graph"
   ]
  },
  {
   "cell_type": "markdown",
   "metadata": {
    "id": "o8ykjVWoa0kz"
   },
   "source": [
    "We will be passing the tool use decision to our `router` which will _route_ the output to the chosen node component to run (we define these below) based on the `out.tool_calls[0][\"name\"]` value."
   ]
  },
  {
   "cell_type": "code",
   "execution_count": 46,
   "metadata": {
    "id": "LcRVPIuAgcoG"
   },
   "outputs": [],
   "source": [
    "def run_oracle(state: list):\n",
    "    print(\"run_oracle\")\n",
    "    print(f\"intermediate_steps: {state['intermediate_steps']}\")\n",
    "    out = oracle.invoke(state)\n",
    "    tool_name = out.tool_calls[0][\"name\"]\n",
    "    tool_args = out.tool_calls[0][\"args\"]\n",
    "    action_out = AgentAction(\n",
    "        tool=tool_name,\n",
    "        tool_input=tool_args,\n",
    "        log=\"TBD\"\n",
    "    )\n",
    "    return {\n",
    "        \"intermediate_steps\": [action_out]\n",
    "    }\n",
    "\n",
    "def router(state: list):\n",
    "    # return the tool name to use\n",
    "    if isinstance(state[\"intermediate_steps\"], list):\n",
    "        return state[\"intermediate_steps\"][-1].tool\n",
    "    else:\n",
    "        # if we output bad format go to final answer\n",
    "        print(\"Router invalid format\")\n",
    "        return \"final_answer\""
   ]
  },
  {
   "cell_type": "markdown",
   "metadata": {
    "id": "PtBEhoDOSOCQ"
   },
   "source": [
    "All of our tools can be run using the same function logic, which we define with `run_tool`. The input parameters to our tool call and the resultant output are added to our graph state's `intermediate_steps` parameter."
   ]
  },
  {
   "cell_type": "code",
   "execution_count": null,
   "metadata": {
    "id": "r27tXTBrSVLK"
   },
   "outputs": [],
   "source": []
  },
  {
   "cell_type": "code",
   "execution_count": null,
   "metadata": {
    "id": "kkxxHFwgSVIs"
   },
   "outputs": [],
   "source": []
  },
  {
   "cell_type": "code",
   "execution_count": 47,
   "metadata": {
    "id": "-JGJGvDVcbvq"
   },
   "outputs": [],
   "source": [
    "tool_str_to_func = {\n",
    "    \"rag_search_filter\": rag_search_filter,\n",
    "    \"rag_search\": rag_search,\n",
    "    \"fetch_arxiv\": fetch_arxiv,\n",
    "    \"web_search\": web_search,\n",
    "    \"final_answer\": final_answer\n",
    "}\n",
    "\n",
    "def run_tool(state: list):\n",
    "    # use this as helper function so we repeat less code\n",
    "    tool_name = state[\"intermediate_steps\"][-1].tool\n",
    "    tool_args = state[\"intermediate_steps\"][-1].tool_input\n",
    "    print(f\"{tool_name}.invoke(input={tool_args})\")\n",
    "    # run tool\n",
    "    out = tool_str_to_func[tool_name].invoke(input=tool_args)\n",
    "    action_out = AgentAction(\n",
    "        tool=tool_name,\n",
    "        tool_input=tool_args,\n",
    "        log=str(out)\n",
    "    )\n",
    "    return {\"intermediate_steps\": [action_out]}"
   ]
  },
  {
   "cell_type": "markdown",
   "metadata": {
    "id": "zwv4EsTKeZzh"
   },
   "source": [
    "## Define Graph"
   ]
  },
  {
   "cell_type": "code",
   "execution_count": 48,
   "metadata": {
    "id": "LAkcBE5pebXv"
   },
   "outputs": [],
   "source": [
    "from langgraph.graph import StateGraph, END\n",
    "\n",
    "graph = StateGraph(AgentState)\n",
    "\n",
    "graph.add_node(\"oracle\", run_oracle)\n",
    "graph.add_node(\"rag_search_filter\", run_tool)\n",
    "graph.add_node(\"rag_search\", run_tool)\n",
    "graph.add_node(\"fetch_arxiv\", run_tool)\n",
    "graph.add_node(\"web_search\", run_tool)\n",
    "graph.add_node(\"final_answer\", run_tool)\n",
    "\n",
    "graph.set_entry_point(\"oracle\")\n",
    "\n",
    "graph.add_conditional_edges(\n",
    "    source=\"oracle\",  # where in graph to start\n",
    "    path=router,  # function to determine which node is called\n",
    ")\n",
    "\n",
    "# create edges from each tool back to the oracle\n",
    "for tool_obj in tools:\n",
    "    if tool_obj.name != \"final_answer\":\n",
    "        graph.add_edge(tool_obj.name, \"oracle\")\n",
    "\n",
    "# if anything goes to final answer, it must then move to END\n",
    "graph.add_edge(\"final_answer\", END)\n",
    "\n",
    "runnable = graph.compile()"
   ]
  },
  {
   "cell_type": "code",
   "execution_count": 49,
   "metadata": {
    "colab": {
     "base_uri": "https://localhost:8080/",
     "height": 467
    },
    "id": "EmwkoQkthb__",
    "outputId": "f2cd4b01-b9f6-49c2-e4bf-3c235ec15aa0"
   },
   "outputs": [
    {
     "data": {
      "image/png": "[encoded data removed]",
      "text/plain": [
       "<IPython.core.display.Image object>"
      ]
     },
     "execution_count": 49,
     "metadata": {},
     "output_type": "execute_result"
    }
   ],
   "source": [
    "from IPython.display import Image\n",
    "\n",
    "Image(runnable.get_graph().draw_png())"
   ]
  },
  {
   "cell_type": "markdown",
   "metadata": {
    "id": "QmrXAdCwiN8N"
   },
   "source": [
    "## Building Reports"
   ]
  },
  {
   "cell_type": "markdown",
   "metadata": {
    "id": "nPJiet2niPnQ"
   },
   "source": [
    "Let's test our research agent. First, I want to try on something simple (although not within the intended use-case of our agent):"
   ]
  },
  {
   "cell_type": "code",
   "execution_count": 57,
   "metadata": {
    "colab": {
     "base_uri": "https://localhost:8080/"
    },
    "id": "eghr8ZBI-IJL",
    "outputId": "620075bc-51cb-444c-8cd9-9580790f0f7f"
   },
   "outputs": [
    {
     "name": "stdout",
     "output_type": "stream",
     "text": [
      "run_oracle\n",
      "intermediate_steps: []\n",
      "rag_search.invoke(input={'query': 'interesting facts about dogs'})\n",
      "run_oracle\n",
      "intermediate_steps: [AgentAction(tool='rag_search', tool_input={'query': 'interesting facts about dogs'}, log='TBD'), AgentAction(tool='rag_search', tool_input={'query': 'interesting facts about dogs'}, log=\"Title: CALYPSO: LLMs as Dungeon Masters' Assistants\\nContent: The blink dogs are canine creatures, about the size of a large dog. Their fur is a mottled grey and white colour, and their eyes flash yellow when they use their supernatural ability to blink in and out of ex- istence. They are surprisingly fast despite their size, and can easily keep up with most horses. In terms of behavior, the blink dogs are curious but shy creatures who prefer to avoid contact with other creatures un- less absolutely necessary. If threatened, they will use their blinking power to confuse and disorientate their opponents before attacking with a pack mentality. The blink dogs of this forest seem particularly adept at working together as a unit and can prove a formidable foe if provoked.\\nArXiv ID: 2308.07540\\nRelated Papers: ['1706.03762']\\n\\n---\\nTitle: OpenFlamingo: An Open-Source Framework for Training Large Autoregressive Vision-Language Models\\nContent: 15 Random demonstrations  RICES  A person hanging from a telephone pole near the mountains. The brown dog is running through the grass with a yellow toy in its mouth. Demos  A trio of male musicians are performing with one playing a guitar and singing into a micro- phone, another holding a harmonica, and the third playing a bass guitar. A white dog rushes down a dirt path sur- rounded by grass and trees. Two men, both in strange hats, working over rocks in a busy urban street. The tan dog is carrying a green squeak toy in its mouth. Several people are in a group where a man in a blue shirt is smiling. A yellow dog running through a yard covered in leaves while holding a yellow toy in his mouth.\\nArXiv ID: 2308.01390\\nRelated Papers: ['1909.11059']\\n\")]\n",
      "web_search.invoke(input={'query': 'interesting facts about dogs'})\n",
      "run_oracle\n",
      "intermediate_steps: [AgentAction(tool='rag_search', tool_input={'query': 'interesting facts about dogs'}, log='TBD'), AgentAction(tool='rag_search', tool_input={'query': 'interesting facts about dogs'}, log=\"Title: CALYPSO: LLMs as Dungeon Masters' Assistants\\nContent: The blink dogs are canine creatures, about the size of a large dog. Their fur is a mottled grey and white colour, and their eyes flash yellow when they use their supernatural ability to blink in and out of ex- istence. They are surprisingly fast despite their size, and can easily keep up with most horses. In terms of behavior, the blink dogs are curious but shy creatures who prefer to avoid contact with other creatures un- less absolutely necessary. If threatened, they will use their blinking power to confuse and disorientate their opponents before attacking with a pack mentality. The blink dogs of this forest seem particularly adept at working together as a unit and can prove a formidable foe if provoked.\\nArXiv ID: 2308.07540\\nRelated Papers: ['1706.03762']\\n\\n---\\nTitle: OpenFlamingo: An Open-Source Framework for Training Large Autoregressive Vision-Language Models\\nContent: 15 Random demonstrations  RICES  A person hanging from a telephone pole near the mountains. The brown dog is running through the grass with a yellow toy in its mouth. Demos  A trio of male musicians are performing with one playing a guitar and singing into a micro- phone, another holding a harmonica, and the third playing a bass guitar. A white dog rushes down a dirt path sur- rounded by grass and trees. Two men, both in strange hats, working over rocks in a busy urban street. The tan dog is carrying a green squeak toy in its mouth. Several people are in a group where a man in a blue shirt is smiling. A yellow dog running through a yard covered in leaves while holding a yellow toy in his mouth.\\nArXiv ID: 2308.01390\\nRelated Papers: ['1909.11059']\\n\"), AgentAction(tool='web_search', tool_input={'query': 'interesting facts about dogs'}, log='TBD'), AgentAction(tool='web_search', tool_input={'query': 'interesting facts about dogs'}, log=\"Interesting Facts About Dogs\\n– When a puppy is born, he is blind, deaf, and toothless. – All dogs, regardless of breed, are direct descendants of wolves and technically of the same species.\\nhttps://www.mspca.org/pet_resources/interesting-facts-about-dogs/\\n---\\n30 Fun and Fascinating Dog Facts\\nCheck out these 30 fun dog facts. 1. The Labrador Retriever has been on the AKC's top 10 most popular breeds list for longer than any other breed.\\nhttps://www.akc.org/expert-advice/lifestyle/dog-facts/\\n---\\nDog facts for kids!\\nDog facts! · 1. Dogs are the most popular pet on the planet! · 2. They evolved from a now-extinct species of wolf. · 3. They can learn over 100 words and gestures!\\nhttps://www.natgeokids.com/uk/discover/animals/general-animals/dog-facts/\\n---\\nWhat are your favorite surprising or little known dog facts?\\nDogs have coevolved with humans for so long that they can actually read facial expressions and interpret many human gestures and body language.\\nhttps://www.reddit.com/r/dogs/comments/xqevhc/what_are_your_favorite_surprising_or_little_known/\")]\n",
      "rag_search.invoke(input={'query': 'interesting facts about dogs'})\n",
      "run_oracle\n",
      "intermediate_steps: [AgentAction(tool='rag_search', tool_input={'query': 'interesting facts about dogs'}, log='TBD'), AgentAction(tool='rag_search', tool_input={'query': 'interesting facts about dogs'}, log=\"Title: CALYPSO: LLMs as Dungeon Masters' Assistants\\nContent: The blink dogs are canine creatures, about the size of a large dog. Their fur is a mottled grey and white colour, and their eyes flash yellow when they use their supernatural ability to blink in and out of ex- istence. They are surprisingly fast despite their size, and can easily keep up with most horses. In terms of behavior, the blink dogs are curious but shy creatures who prefer to avoid contact with other creatures un- less absolutely necessary. If threatened, they will use their blinking power to confuse and disorientate their opponents before attacking with a pack mentality. The blink dogs of this forest seem particularly adept at working together as a unit and can prove a formidable foe if provoked.\\nArXiv ID: 2308.07540\\nRelated Papers: ['1706.03762']\\n\\n---\\nTitle: OpenFlamingo: An Open-Source Framework for Training Large Autoregressive Vision-Language Models\\nContent: 15 Random demonstrations  RICES  A person hanging from a telephone pole near the mountains. The brown dog is running through the grass with a yellow toy in its mouth. Demos  A trio of male musicians are performing with one playing a guitar and singing into a micro- phone, another holding a harmonica, and the third playing a bass guitar. A white dog rushes down a dirt path sur- rounded by grass and trees. Two men, both in strange hats, working over rocks in a busy urban street. The tan dog is carrying a green squeak toy in its mouth. Several people are in a group where a man in a blue shirt is smiling. A yellow dog running through a yard covered in leaves while holding a yellow toy in his mouth.\\nArXiv ID: 2308.01390\\nRelated Papers: ['1909.11059']\\n\"), AgentAction(tool='web_search', tool_input={'query': 'interesting facts about dogs'}, log='TBD'), AgentAction(tool='web_search', tool_input={'query': 'interesting facts about dogs'}, log=\"Interesting Facts About Dogs\\n– When a puppy is born, he is blind, deaf, and toothless. – All dogs, regardless of breed, are direct descendants of wolves and technically of the same species.\\nhttps://www.mspca.org/pet_resources/interesting-facts-about-dogs/\\n---\\n30 Fun and Fascinating Dog Facts\\nCheck out these 30 fun dog facts. 1. The Labrador Retriever has been on the AKC's top 10 most popular breeds list for longer than any other breed.\\nhttps://www.akc.org/expert-advice/lifestyle/dog-facts/\\n---\\nDog facts for kids!\\nDog facts! · 1. Dogs are the most popular pet on the planet! · 2. They evolved from a now-extinct species of wolf. · 3. They can learn over 100 words and gestures!\\nhttps://www.natgeokids.com/uk/discover/animals/general-animals/dog-facts/\\n---\\nWhat are your favorite surprising or little known dog facts?\\nDogs have coevolved with humans for so long that they can actually read facial expressions and interpret many human gestures and body language.\\nhttps://www.reddit.com/r/dogs/comments/xqevhc/what_are_your_favorite_surprising_or_little_known/\"), AgentAction(tool='rag_search', tool_input={'query': 'interesting facts about dogs'}, log='TBD'), AgentAction(tool='rag_search', tool_input={'query': 'interesting facts about dogs'}, log=\"Title: CALYPSO: LLMs as Dungeon Masters' Assistants\\nContent: The blink dogs are canine creatures, about the size of a large dog. Their fur is a mottled grey and white colour, and their eyes flash yellow when they use their supernatural ability to blink in and out of ex- istence. They are surprisingly fast despite their size, and can easily keep up with most horses. In terms of behavior, the blink dogs are curious but shy creatures who prefer to avoid contact with other creatures un- less absolutely necessary. If threatened, they will use their blinking power to confuse and disorientate their opponents before attacking with a pack mentality. The blink dogs of this forest seem particularly adept at working together as a unit and can prove a formidable foe if provoked.\\nArXiv ID: 2308.07540\\nRelated Papers: ['1706.03762']\\n\\n---\\nTitle: OpenFlamingo: An Open-Source Framework for Training Large Autoregressive Vision-Language Models\\nContent: 15 Random demonstrations  RICES  A person hanging from a telephone pole near the mountains. The brown dog is running through the grass with a yellow toy in its mouth. Demos  A trio of male musicians are performing with one playing a guitar and singing into a micro- phone, another holding a harmonica, and the third playing a bass guitar. A white dog rushes down a dirt path sur- rounded by grass and trees. Two men, both in strange hats, working over rocks in a busy urban street. The tan dog is carrying a green squeak toy in its mouth. Several people are in a group where a man in a blue shirt is smiling. A yellow dog running through a yard covered in leaves while holding a yellow toy in his mouth.\\nArXiv ID: 2308.01390\\nRelated Papers: ['1909.11059']\\n\")]\n",
      "final_answer.invoke(input={'introduction': 'Dogs are fascinating creatures that have been companions to humans for thousands of years. They are not only beloved pets but also possess unique traits and abilities that make them stand out in the animal kingdom.', 'research_steps': '- Conducted a specialist search on interesting facts about dogs using a research tool.\\n- Performed a web search to gather general knowledge and fun facts about dogs.\\n- Compiled information from various sources to provide a comprehensive overview.', 'main_body': 'Dogs, scientifically known as Canis lupus familiaris, are direct descendants of wolves and share many characteristics with their wild ancestors. Despite their domestication, all dogs, regardless of breed, belong to the same species. This evolutionary background contributes to their diverse range of behaviors and physical traits.\\n\\nOne of the most intriguing aspects of dogs is their ability to understand human emotions and gestures. They have coevolved with humans to such an extent that they can read facial expressions and interpret body language, making them highly empathetic companions. This unique ability is a result of thousands of years of living alongside humans.\\n\\nDogs are also known for their incredible sense of smell, which is far superior to that of humans. This heightened olfactory ability allows them to detect scents over great distances and is utilized in various fields such as search and rescue, detection of explosives, and even medical diagnostics. Additionally, dogs are capable of learning over 100 words and gestures, showcasing their intelligence and adaptability.\\n\\nInterestingly, when puppies are born, they are blind, deaf, and toothless, relying entirely on their mother for survival. As they grow, they develop these senses and become the playful, energetic animals we know and love. The Labrador Retriever, for instance, has been one of the most popular dog breeds for many years, known for its friendly nature and intelligence.', 'conclusion': 'Dogs are remarkable animals with a rich evolutionary history and a deep connection to humans. Their unique abilities, such as understanding human emotions and their exceptional sense of smell, make them invaluable companions and workers. Whether as pets or working animals, dogs continue to captivate and assist humans in numerous ways.', 'sources': '- MSPCA: Interesting Facts About Dogs (https://www.mspca.org/pet_resources/interesting-facts-about-dogs/)\\n- American Kennel Club: 30 Fun and Fascinating Dog Facts (https://www.akc.org/expert-advice/lifestyle/dog-facts/)\\n- National Geographic Kids: Dog Facts (https://www.natgeokids.com/uk/discover/animals/general-animals/dog-facts/)\\n- Reddit: Surprising Dog Facts (https://www.reddit.com/r/dogs/comments/xqevhc/what_are_your_favorite_surprising_or_little_known/)'})\n"
     ]
    }
   ],
   "source": [
    "out = runnable.invoke({\n",
    "    \"input\": \"tell me something interesting about dogs\",\n",
    "    \"chat_history\": [],\n",
    "})"
   ]
  },
  {
   "cell_type": "markdown",
   "metadata": {
    "id": "YjwDv5zvjACg"
   },
   "source": [
    "Let's create a function to consume the agent output and format it into our report:"
   ]
  },
  {
   "cell_type": "code",
   "execution_count": 58,
   "metadata": {
    "id": "xZxjrfBfjFPl"
   },
   "outputs": [],
   "source": [
    "def build_report(output: dict):\n",
    "    research_steps = output[\"research_steps\"]\n",
    "    if type(research_steps) is list:\n",
    "        research_steps = \"\\n\".join([f\"- {r}\" for r in research_steps])\n",
    "    sources = output[\"sources\"]\n",
    "    if type(sources) is list:\n",
    "        sources = \"\\n\".join([f\"- {s}\" for s in sources])\n",
    "    return f\"\"\"\n",
    "INTRODUCTION\n",
    "------------\n",
    "{output[\"introduction\"]}\n",
    "\n",
    "RESEARCH STEPS\n",
    "--------------\n",
    "{research_steps}\n",
    "\n",
    "REPORT\n",
    "------\n",
    "{output[\"main_body\"]}\n",
    "\n",
    "CONCLUSION\n",
    "----------\n",
    "{output[\"conclusion\"]}\n",
    "\n",
    "SOURCES\n",
    "-------\n",
    "{sources}\n",
    "\"\"\""
   ]
  },
  {
   "cell_type": "code",
   "execution_count": 59,
   "metadata": {
    "colab": {
     "base_uri": "https://localhost:8080/"
    },
    "id": "xjbPRhk8dhfs",
    "outputId": "bd56c2f8-b6af-44a5-9ee9-c12311ca0c50"
   },
   "outputs": [
    {
     "name": "stdout",
     "output_type": "stream",
     "text": [
      "\n",
      "INTRODUCTION\n",
      "------------\n",
      "Dogs are fascinating creatures that have been companions to humans for thousands of years. They are not only beloved pets but also possess unique traits and abilities that make them stand out in the animal kingdom.\n",
      "\n",
      "RESEARCH STEPS\n",
      "--------------\n",
      "- Conducted a specialist search on interesting facts about dogs using a research tool.\n",
      "- Performed a web search to gather general knowledge and fun facts about dogs.\n",
      "- Compiled information from various sources to provide a comprehensive overview.\n",
      "\n",
      "REPORT\n",
      "------\n",
      "Dogs, scientifically known as Canis lupus familiaris, are direct descendants of wolves and share many characteristics with their wild ancestors. Despite their domestication, all dogs, regardless of breed, belong to the same species. This evolutionary background contributes to their diverse range of behaviors and physical traits.\n",
      "\n",
      "One of the most intriguing aspects of dogs is their ability to understand human emotions and gestures. They have coevolved with humans to such an extent that they can read facial expressions and interpret body language, making them highly empathetic companions. This unique ability is a result of thousands of years of living alongside humans.\n",
      "\n",
      "Dogs are also known for their incredible sense of smell, which is far superior to that of humans. This heightened olfactory ability allows them to detect scents over great distances and is utilized in various fields such as search and rescue, detection of explosives, and even medical diagnostics. Additionally, dogs are capable of learning over 100 words and gestures, showcasing their intelligence and adaptability.\n",
      "\n",
      "Interestingly, when puppies are born, they are blind, deaf, and toothless, relying entirely on their mother for survival. As they grow, they develop these senses and become the playful, energetic animals we know and love. The Labrador Retriever, for instance, has been one of the most popular dog breeds for many years, known for its friendly nature and intelligence.\n",
      "\n",
      "CONCLUSION\n",
      "----------\n",
      "Dogs are remarkable animals with a rich evolutionary history and a deep connection to humans. Their unique abilities, such as understanding human emotions and their exceptional sense of smell, make them invaluable companions and workers. Whether as pets or working animals, dogs continue to captivate and assist humans in numerous ways.\n",
      "\n",
      "SOURCES\n",
      "-------\n",
      "- MSPCA: Interesting Facts About Dogs (https://www.mspca.org/pet_resources/interesting-facts-about-dogs/)\n",
      "- American Kennel Club: 30 Fun and Fascinating Dog Facts (https://www.akc.org/expert-advice/lifestyle/dog-facts/)\n",
      "- National Geographic Kids: Dog Facts (https://www.natgeokids.com/uk/discover/animals/general-animals/dog-facts/)\n",
      "- Reddit: Surprising Dog Facts (https://www.reddit.com/r/dogs/comments/xqevhc/what_are_your_favorite_surprising_or_little_known/)\n",
      "\n"
     ]
    }
   ],
   "source": [
    "print(build_report(\n",
    "    output=out[\"intermediate_steps\"][-1].tool_input\n",
    "))"
   ]
  },
  {
   "cell_type": "markdown",
   "metadata": {
    "id": "TBgBR3PdiXIg"
   },
   "source": [
    "Now let's try with an on-topic question on AI."
   ]
  },
  {
   "cell_type": "code",
   "execution_count": 60,
   "metadata": {
    "colab": {
     "base_uri": "https://localhost:8080/"
    },
    "id": "a21f9VneePw_",
    "outputId": "5a8cba34-6819-46fc-fd30-cc58911f81f0",
    "scrolled": true
   },
   "outputs": [
    {
     "name": "stdout",
     "output_type": "stream",
     "text": [
      "run_oracle\n",
      "intermediate_steps: []\n",
      "rag_search.invoke(input={'query': 'AI overview'})\n",
      "run_oracle\n",
      "intermediate_steps: [AgentAction(tool='rag_search', tool_input={'query': 'AI overview'}, log='TBD'), AgentAction(tool='rag_search', tool_input={'query': 'AI overview'}, log='Title: Conceptual Framework for Autonomous Cognitive Entities\\nContent: 5 5 # The field of cybersecurity offers more direct inspiration through layered models like the \"Defense in Depth\" frame- work [13]. This advocates protecting systems through nested layers encompassing physical security, network security, host security, application security, and data se- curity. The principles of privileged separation and hier- archical control in Defense in Depth informed the ACE Fig. 2. OSI Model , , os , , Shapiro, et al. # frameworkâ s approach. ACE differs from these models by centering layers around cognitive faculties like plan- ning, task switching, and metacognition. While drawing lessons from prior layered architectures, ACE innovates by applying abstraction layers internally to structure au- tonomous cognition. This focuses the hierarchy on com- petencies required for flexible intelligence. By integrating insights from diverse layered models while innovating to focus on internal cognition, the ACE framework pioneers a new application of hierarchical abstraction for artificial general intelligence. The layered approach provides conceptual clarity and privilege separation critical for security and corrigibility. # 2.5 Autonomous Agents Autonomous agents have been an active research area within artificial intelligence for several decades. Early research focused on developing deliberative agents that could autonomously plan actions based on logical representations of environment states, goals, and possible actions [36]. While able to exhibit goal-directed behavior, these systems were limited by the need to explicitly enumerate all feasible environment states. Reinforcement learning emerged as a paradigm enabling agents to learn optimal policies through trial-and-error interactions within an environment [105]. By removing the need for explicit state enumeration, reinforcement learning empowered agents to handle larger state spaces. However, challenges remained with scaling to complex tasks and ensuring safe exploration. Integrating deliberative planning and reactive learning in hybrid architectures was explored as a way to combine top-down and bottom-up processing [40]. Finding the right balance between planning and learning remains an open research area. An important concept emerging in autonomous agents research is levels of autonomy (LOA) [14]. LOA provides a framework to categorize systems based on their level of independence from human control. Lower LOA systems have limited autonomy and rely heavily on human guidance. As LOA increases, agents gain greater ability to independently perceive environments, plan actions, and execute behaviors.\\nArXiv ID: 2310.06775\\nRelated Papers: [\\'1712.05474\\']\\n\\n---\\nTitle: Conceptual Framework for Autonomous Cognitive Entities\\nContent: 23 , , os , , Shapiro, et al. behaviors [62]. Bayesian environment models facilitate online adaptation and planning [9]. Meta-reinforcement learning enables rapidly adapting behaviors by building on prior knowledge [112]. The integration architecture also has manifold options. Intelligent process automation tools optimize coordinating workflows [58]. Distributed databases and ledgers provide decentralized coordination [116]. gRPC enables high- throughput communication [16]. Shared memory architectures offer concurrent inter-layer data access [78]. Service meshes furnish advanced integration capabilities [84]. SOA software paradigms treats distinctive layers of an application as services with clear boundaries, and is a well established approach to complex software implementations [37]. By elucidating this expansive design space, we aim to catalyze exploration of novel layer-specific implementations and cross-layer integration strategies tailored to specialized cognitive systems. Guided by multi-objective optimization and comparative benchmarking, multidimensional trade-off analyses weighing factors like transparency, performance, and scalability could determine optimal ACE configurations for particular application requirements. This analysis underscores the multiplicity of design configurations encompassed within the ACE framework for cultivating diverse autonomous cognitive architectures aligned with ethical principles. # 4 CONCEPTUAL USE CASES To demonstrate the ACE frameworkâ s applicability across digital and physical domains, this section presents two conceptual use cases: an autonomous virtual character from The Sims video game, and an embodied home assistant robot. By exploring end-to-end examples, we aim to illustrate how coordinated operation of the ACE modelâ s layers can produce adaptive behavior aligned with defined principles for diverse autonomous agents.\\nArXiv ID: 2310.06775\\nRelated Papers: [\\'1712.05474\\']\\n')]\n",
      "web_search.invoke(input={'query': 'AI overview'})\n",
      "run_oracle\n",
      "intermediate_steps: [AgentAction(tool='rag_search', tool_input={'query': 'AI overview'}, log='TBD'), AgentAction(tool='rag_search', tool_input={'query': 'AI overview'}, log='Title: Conceptual Framework for Autonomous Cognitive Entities\\nContent: 5 5 # The field of cybersecurity offers more direct inspiration through layered models like the \"Defense in Depth\" frame- work [13]. This advocates protecting systems through nested layers encompassing physical security, network security, host security, application security, and data se- curity. The principles of privileged separation and hier- archical control in Defense in Depth informed the ACE Fig. 2. OSI Model , , os , , Shapiro, et al. # frameworkâ s approach. ACE differs from these models by centering layers around cognitive faculties like plan- ning, task switching, and metacognition. While drawing lessons from prior layered architectures, ACE innovates by applying abstraction layers internally to structure au- tonomous cognition. This focuses the hierarchy on com- petencies required for flexible intelligence. By integrating insights from diverse layered models while innovating to focus on internal cognition, the ACE framework pioneers a new application of hierarchical abstraction for artificial general intelligence. The layered approach provides conceptual clarity and privilege separation critical for security and corrigibility. # 2.5 Autonomous Agents Autonomous agents have been an active research area within artificial intelligence for several decades. Early research focused on developing deliberative agents that could autonomously plan actions based on logical representations of environment states, goals, and possible actions [36]. While able to exhibit goal-directed behavior, these systems were limited by the need to explicitly enumerate all feasible environment states. Reinforcement learning emerged as a paradigm enabling agents to learn optimal policies through trial-and-error interactions within an environment [105]. By removing the need for explicit state enumeration, reinforcement learning empowered agents to handle larger state spaces. However, challenges remained with scaling to complex tasks and ensuring safe exploration. Integrating deliberative planning and reactive learning in hybrid architectures was explored as a way to combine top-down and bottom-up processing [40]. Finding the right balance between planning and learning remains an open research area. An important concept emerging in autonomous agents research is levels of autonomy (LOA) [14]. LOA provides a framework to categorize systems based on their level of independence from human control. Lower LOA systems have limited autonomy and rely heavily on human guidance. As LOA increases, agents gain greater ability to independently perceive environments, plan actions, and execute behaviors.\\nArXiv ID: 2310.06775\\nRelated Papers: [\\'1712.05474\\']\\n\\n---\\nTitle: Conceptual Framework for Autonomous Cognitive Entities\\nContent: 23 , , os , , Shapiro, et al. behaviors [62]. Bayesian environment models facilitate online adaptation and planning [9]. Meta-reinforcement learning enables rapidly adapting behaviors by building on prior knowledge [112]. The integration architecture also has manifold options. Intelligent process automation tools optimize coordinating workflows [58]. Distributed databases and ledgers provide decentralized coordination [116]. gRPC enables high- throughput communication [16]. Shared memory architectures offer concurrent inter-layer data access [78]. Service meshes furnish advanced integration capabilities [84]. SOA software paradigms treats distinctive layers of an application as services with clear boundaries, and is a well established approach to complex software implementations [37]. By elucidating this expansive design space, we aim to catalyze exploration of novel layer-specific implementations and cross-layer integration strategies tailored to specialized cognitive systems. Guided by multi-objective optimization and comparative benchmarking, multidimensional trade-off analyses weighing factors like transparency, performance, and scalability could determine optimal ACE configurations for particular application requirements. This analysis underscores the multiplicity of design configurations encompassed within the ACE framework for cultivating diverse autonomous cognitive architectures aligned with ethical principles. # 4 CONCEPTUAL USE CASES To demonstrate the ACE frameworkâ s applicability across digital and physical domains, this section presents two conceptual use cases: an autonomous virtual character from The Sims video game, and an embodied home assistant robot. By exploring end-to-end examples, we aim to illustrate how coordinated operation of the ACE modelâ s layers can produce adaptive behavior aligned with defined principles for diverse autonomous agents.\\nArXiv ID: 2310.06775\\nRelated Papers: [\\'1712.05474\\']\\n'), AgentAction(tool='web_search', tool_input={'query': 'AI overview'}, log='TBD'), AgentAction(tool='web_search', tool_input={'query': 'AI overview'}, log=\"AI Overviews and Your Website | Google Search Central\\nAI Overviews can help users find your website. Learn more about what AI overviews are, how to control them, and how they can work for your site.\\nhttps://developers.google.com/search/docs/appearance/ai-overviews\\n---\\nFind information in faster & easier ways with AI Overviews ...\\nAI Overviews can take the work out of searching by providing an AI-generated snapshot with key information and links to dig deeper.\\nhttps://support.google.com/websearch/answer/14901683?hl=en\\n---\\nGenerative AI in Search: Let Google do the searching for you\\nWe're bringing AI Overviews to everyone in the U.S. and adding new gen AI experiences to take more of the legwork out of searching.\\nhttps://blog.google/products/search/generative-ai-google-search-may-2024/\\n---\\n“AI Overviews and more” in Search Labs - Android\\n“AI Overviews and more” is an experiment in Search Labs that lets you see AI Overviews on more Google searches and offers access to additional generative AI ...\\nhttps://support.google.com/websearch/answer/13572151?hl=en&co=GENIE.Platform%3DAndroid\")]\n",
      "rag_search_filter.invoke(input={'query': 'AI overview', 'arxiv_id': '2310.06775'})\n",
      "run_oracle\n",
      "intermediate_steps: [AgentAction(tool='rag_search', tool_input={'query': 'AI overview'}, log='TBD'), AgentAction(tool='rag_search', tool_input={'query': 'AI overview'}, log='Title: Conceptual Framework for Autonomous Cognitive Entities\\nContent: 5 5 # The field of cybersecurity offers more direct inspiration through layered models like the \"Defense in Depth\" frame- work [13]. This advocates protecting systems through nested layers encompassing physical security, network security, host security, application security, and data se- curity. The principles of privileged separation and hier- archical control in Defense in Depth informed the ACE Fig. 2. OSI Model , , os , , Shapiro, et al. # frameworkâ s approach. ACE differs from these models by centering layers around cognitive faculties like plan- ning, task switching, and metacognition. While drawing lessons from prior layered architectures, ACE innovates by applying abstraction layers internally to structure au- tonomous cognition. This focuses the hierarchy on com- petencies required for flexible intelligence. By integrating insights from diverse layered models while innovating to focus on internal cognition, the ACE framework pioneers a new application of hierarchical abstraction for artificial general intelligence. The layered approach provides conceptual clarity and privilege separation critical for security and corrigibility. # 2.5 Autonomous Agents Autonomous agents have been an active research area within artificial intelligence for several decades. Early research focused on developing deliberative agents that could autonomously plan actions based on logical representations of environment states, goals, and possible actions [36]. While able to exhibit goal-directed behavior, these systems were limited by the need to explicitly enumerate all feasible environment states. Reinforcement learning emerged as a paradigm enabling agents to learn optimal policies through trial-and-error interactions within an environment [105]. By removing the need for explicit state enumeration, reinforcement learning empowered agents to handle larger state spaces. However, challenges remained with scaling to complex tasks and ensuring safe exploration. Integrating deliberative planning and reactive learning in hybrid architectures was explored as a way to combine top-down and bottom-up processing [40]. Finding the right balance between planning and learning remains an open research area. An important concept emerging in autonomous agents research is levels of autonomy (LOA) [14]. LOA provides a framework to categorize systems based on their level of independence from human control. Lower LOA systems have limited autonomy and rely heavily on human guidance. As LOA increases, agents gain greater ability to independently perceive environments, plan actions, and execute behaviors.\\nArXiv ID: 2310.06775\\nRelated Papers: [\\'1712.05474\\']\\n\\n---\\nTitle: Conceptual Framework for Autonomous Cognitive Entities\\nContent: 23 , , os , , Shapiro, et al. behaviors [62]. Bayesian environment models facilitate online adaptation and planning [9]. Meta-reinforcement learning enables rapidly adapting behaviors by building on prior knowledge [112]. The integration architecture also has manifold options. Intelligent process automation tools optimize coordinating workflows [58]. Distributed databases and ledgers provide decentralized coordination [116]. gRPC enables high- throughput communication [16]. Shared memory architectures offer concurrent inter-layer data access [78]. Service meshes furnish advanced integration capabilities [84]. SOA software paradigms treats distinctive layers of an application as services with clear boundaries, and is a well established approach to complex software implementations [37]. By elucidating this expansive design space, we aim to catalyze exploration of novel layer-specific implementations and cross-layer integration strategies tailored to specialized cognitive systems. Guided by multi-objective optimization and comparative benchmarking, multidimensional trade-off analyses weighing factors like transparency, performance, and scalability could determine optimal ACE configurations for particular application requirements. This analysis underscores the multiplicity of design configurations encompassed within the ACE framework for cultivating diverse autonomous cognitive architectures aligned with ethical principles. # 4 CONCEPTUAL USE CASES To demonstrate the ACE frameworkâ s applicability across digital and physical domains, this section presents two conceptual use cases: an autonomous virtual character from The Sims video game, and an embodied home assistant robot. By exploring end-to-end examples, we aim to illustrate how coordinated operation of the ACE modelâ s layers can produce adaptive behavior aligned with defined principles for diverse autonomous agents.\\nArXiv ID: 2310.06775\\nRelated Papers: [\\'1712.05474\\']\\n'), AgentAction(tool='web_search', tool_input={'query': 'AI overview'}, log='TBD'), AgentAction(tool='web_search', tool_input={'query': 'AI overview'}, log=\"AI Overviews and Your Website | Google Search Central\\nAI Overviews can help users find your website. Learn more about what AI overviews are, how to control them, and how they can work for your site.\\nhttps://developers.google.com/search/docs/appearance/ai-overviews\\n---\\nFind information in faster & easier ways with AI Overviews ...\\nAI Overviews can take the work out of searching by providing an AI-generated snapshot with key information and links to dig deeper.\\nhttps://support.google.com/websearch/answer/14901683?hl=en\\n---\\nGenerative AI in Search: Let Google do the searching for you\\nWe're bringing AI Overviews to everyone in the U.S. and adding new gen AI experiences to take more of the legwork out of searching.\\nhttps://blog.google/products/search/generative-ai-google-search-may-2024/\\n---\\n“AI Overviews and more” in Search Labs - Android\\n“AI Overviews and more” is an experiment in Search Labs that lets you see AI Overviews on more Google searches and offers access to additional generative AI ...\\nhttps://support.google.com/websearch/answer/13572151?hl=en&co=GENIE.Platform%3DAndroid\"), AgentAction(tool='rag_search_filter', tool_input={'query': 'AI overview', 'arxiv_id': '2310.06775'}, log='TBD'), AgentAction(tool='rag_search_filter', tool_input={'query': 'AI overview', 'arxiv_id': '2310.06775'}, log='Title: Conceptual Framework for Autonomous Cognitive Entities\\nContent: 5 5 # The field of cybersecurity offers more direct inspiration through layered models like the \"Defense in Depth\" frame- work [13]. This advocates protecting systems through nested layers encompassing physical security, network security, host security, application security, and data se- curity. The principles of privileged separation and hier- archical control in Defense in Depth informed the ACE Fig. 2. OSI Model , , os , , Shapiro, et al. # frameworkâ s approach. ACE differs from these models by centering layers around cognitive faculties like plan- ning, task switching, and metacognition. While drawing lessons from prior layered architectures, ACE innovates by applying abstraction layers internally to structure au- tonomous cognition. This focuses the hierarchy on com- petencies required for flexible intelligence. By integrating insights from diverse layered models while innovating to focus on internal cognition, the ACE framework pioneers a new application of hierarchical abstraction for artificial general intelligence. The layered approach provides conceptual clarity and privilege separation critical for security and corrigibility. # 2.5 Autonomous Agents Autonomous agents have been an active research area within artificial intelligence for several decades. Early research focused on developing deliberative agents that could autonomously plan actions based on logical representations of environment states, goals, and possible actions [36]. While able to exhibit goal-directed behavior, these systems were limited by the need to explicitly enumerate all feasible environment states. Reinforcement learning emerged as a paradigm enabling agents to learn optimal policies through trial-and-error interactions within an environment [105]. By removing the need for explicit state enumeration, reinforcement learning empowered agents to handle larger state spaces. However, challenges remained with scaling to complex tasks and ensuring safe exploration. Integrating deliberative planning and reactive learning in hybrid architectures was explored as a way to combine top-down and bottom-up processing [40]. Finding the right balance between planning and learning remains an open research area. An important concept emerging in autonomous agents research is levels of autonomy (LOA) [14]. LOA provides a framework to categorize systems based on their level of independence from human control. Lower LOA systems have limited autonomy and rely heavily on human guidance. As LOA increases, agents gain greater ability to independently perceive environments, plan actions, and execute behaviors.\\nArXiv ID: 2310.06775\\nRelated Papers: [\\'1712.05474\\']\\n\\n---\\nTitle: Conceptual Framework for Autonomous Cognitive Entities\\nContent: 23 , , os , , Shapiro, et al. behaviors [62]. Bayesian environment models facilitate online adaptation and planning [9]. Meta-reinforcement learning enables rapidly adapting behaviors by building on prior knowledge [112]. The integration architecture also has manifold options. Intelligent process automation tools optimize coordinating workflows [58]. Distributed databases and ledgers provide decentralized coordination [116]. gRPC enables high- throughput communication [16]. Shared memory architectures offer concurrent inter-layer data access [78]. Service meshes furnish advanced integration capabilities [84]. SOA software paradigms treats distinctive layers of an application as services with clear boundaries, and is a well established approach to complex software implementations [37]. By elucidating this expansive design space, we aim to catalyze exploration of novel layer-specific implementations and cross-layer integration strategies tailored to specialized cognitive systems. Guided by multi-objective optimization and comparative benchmarking, multidimensional trade-off analyses weighing factors like transparency, performance, and scalability could determine optimal ACE configurations for particular application requirements. This analysis underscores the multiplicity of design configurations encompassed within the ACE framework for cultivating diverse autonomous cognitive architectures aligned with ethical principles. # 4 CONCEPTUAL USE CASES To demonstrate the ACE frameworkâ s applicability across digital and physical domains, this section presents two conceptual use cases: an autonomous virtual character from The Sims video game, and an embodied home assistant robot. By exploring end-to-end examples, we aim to illustrate how coordinated operation of the ACE modelâ s layers can produce adaptive behavior aligned with defined principles for diverse autonomous agents.\\nArXiv ID: 2310.06775\\nRelated Papers: [\\'1712.05474\\']\\n\\n---\\nTitle: Conceptual Framework for Autonomous Cognitive Entities\\nContent: By isolating general reasoning capacities from situation-specific skills, ACE gains flexibility regarding diverse interfaces to the external world. In contrast, bundling cognition and physical skills limits AMI and CoALAâ s transferability across contexts relative to ACEâ s emphasis on platform-independent reasoning. While ACE shares high-level similarities with AMI and CoALA, its specialized focus on ethical reasoning, metacogni- tion, cognitive control, and transferable reasoning differentiates its layered architecture and approach to developing beneficial autonomous intelligent systems. The comparisons illuminate ACEâ s conceptual innovations in integrating human values, robust abstraction, and flexible adaptation within a hierarchical cognitive framework. # 5.5 Philosophical Considerations The ACE framework presents a novel approach to autonomous cognitive architectures. However, it is crucial to note that the full ACE model has not been implemented yet. Each architectural layer is based on existing research and industry implementations of specific capabilities. For example, the Aspirational Layer for ethical reasoning builds on AI ethics and value alignment work, while the Task Prosecution Layer for skill execution utilizes advances in robotic control and natural language processing. This paper is an initial effort to combine progress across fields into a unified architectural paradigm. The next phase involves actualizing the ACE model through incremental prototyping and\\nArXiv ID: 2310.06775\\nRelated Papers: [\\'1712.05474\\']\\n\\n---\\nTitle: Conceptual Framework for Autonomous Cognitive Entities\\nContent: 22 Conceptual Framework for Autonomous Cognitive Entities assessments. By combining rigorous testing, benchmarking, deployment studies, formal analysis, and human-subject evaluations, the proposed methodology aims to facilitate comprehensive validation of the ACE framework across key criteria of capabilities, security, and alignment essential for building applied autonomous cognitive systems. 3.8.2 Architectural Considerations. The architectural design space enabled by the ACE framework spans a multitude of layer-specific implementation possibilities and cross-layer integrations. We systematically examine this expansive space. The Aspirational Layer for ethical reasoning could integrate diverse techniques. Procedural generation of moral dilemmas using variational autoencoders, with conflict resolution through reinforcement learning dialog agents, enables uncovering nuanced ethical heuristics [85]. Participatory interfaces allow incorporating moral philosophy expertise into the value system through human-AI collaborative constitution design [52]. Formal verification methods like model checking provably validate alignment between principles and axiomatic values [25]. Finetuning models via principle-driven self-alignment has arisen as a novel approach [103]. For strategic planning, the Global Strategy Layer could employ few-shot in-context learning approaches leveraging capacities of transformers like GPT-3 to rapidly adapt mission plans based on evolving context [17]. Policy distillation from game theory simulations provides a data-driven technique to extract strategic heuristics through adversarial competition [97]. Predicting behaviors of other actors via multi-agent modeling facilitates strategic anticipation and planning [96]. Architecture search with Monte Carlo tree search efficiently explores the space of strategic options to identify high-value policies [19]. For more recent innovations, Tree-of-Thought (ToT) problem-solving capacities of LLMs allow for strategic thinking and complex problem-solving [69]. The Agent Model Layer for representing capabilities has multiple approaches beyond static graphs. Probabilistic graphical models using variational autoencoders enable handling uncertainty in capability knowledge [53]. Neural memory architectures provide dynamic episodic state tracking [26]. Inductive logic programming translates observations into interpretable symbolic rules [77]. Meta-learning enables quickly adapting capability models by building on prior experience [47]. More recently, the concept of task-specific agent personas has emerged in the space of LLM-driven autonomous agents [113]. For planning and resource allocation, the Executive Function Layer could combine neural pathfinding with Monte Carlo tree search to optimize multi-step action plans [88]. Distributed constraint optimization scales to resolve resource contention across parallel plans [38].\\nArXiv ID: 2310.06775\\nRelated Papers: [\\'1712.05474\\']\\n\\n---\\nTitle: Conceptual Framework for Autonomous Cognitive Entities\\nContent: This bears some resemblance to 29 , , os , , Shapiro, et al. AMIâ s World Model learning environment dynamics and CoALAâ s Actor proposing action sequences. However, ACEâ s Global Strategy Layer plays a more central role in directing behavior based on ethical oversight and long-term reasoning beyond immediate actions. It provides targeted grounding to focus the language modelâ s imagination toward useful outcomes aligned with the agentâ s context and goals. In contrast, AMI and CoALA lack integrated top-down guidance, with planning modules focused narrowly on technical optimization. Agent Model Layer: The ACE Agent Model Layer develops an explicit computational representation of the agentâ s capabilities, architecture, and limitations. This facilitates reasoning and planning based on an embedded perspective of the agentâ s self-knowledge. Neither AMI nor CoALA have an analogous distinct metacognitive self-modeling layer. Instead, AMI distributes related functions like skill learning and memory across modules like the Actor and World Model. CoALAâ s Actor selects actions based on skills learned through environmental interaction rather than internal self-modeling. The segregated Agent Model Layer in ACE provides architectural innovation in integrated metacognition and self-awareness missing from both AMI and CoALA. Executive Function Layer: The ACE Executive Function Layer concretizes high-level plans into detailed actionable routines, incorporating oversight responsibilities like risk assessment and resource management. This extends beyond AMIâ s Actor focused narrowly on technical path planning and CoALAâ s Actor converting strategic objectives into incremental action steps. ACEâ s Executive Function Layer leverages robust inputs from upper layers for comprehensive pragmatic planning aligned with the agentâ s principles, objectives, and limitations. In contrast, AMI and CoALA lack strong hierarchical integration between conceptual oversight and concrete planning. Cognitive Control Layer: ACEâ s Cognitive Control Layer implements metacognitive functions like frustration tolerance and cognitive damping for flexible decision-making, especially in uncertain or conflicting situations. Neither AMI nor CoALA incorporate explicit architectures for cognitive control. Their reactive approaches leaves them vulnerable in disruptive scenarios where core assumptions are invalidated. ACEâ s specialized mechanisms modeled on human cognition provide crucial resilience, enabling the agent to safely and intelligently adapt when initial plans fail. This represents a key point of differentiation from AMI and CoALA. Task Prosecution Layer: The ACE Task Prosecution Layer separates basic execution from cognition, which resides in higher layers. This differs from AMI and CoALA where planning and reasoning modules are tightly coupled to embodiment.\\nArXiv ID: 2310.06775\\nRelated Papers: [\\'1712.05474\\']\\n\\n---\\nTitle: Conceptual Framework for Autonomous Cognitive Entities\\nContent: 27 , , os , , # 5 DISCUSSION The conceptual Autonomous Cognitive Entity (ACE) framework presented offers a vision for architecting ethical and capable artificial general intelligence. This section will discuss key perspectives on the ACE framework, including industry relevance, current LLM capabilities, opportunities for future work, comparison with existing models, and practical implications. By elucidating the landscape around the ACE model, we aim to situate this conceptual contribution within the broader context of AI safety and autonomous agent research. # 5.1 The Industry Perspective The ACE framework emerged from observing the rapid growth of autonomous AI development in industry and open source communities. As researchers studying AI advancements, we recognized the increasing urgency to create autonomous systems capable of independently achieving goals. Tech giants compete to launch household robots and self-driving cars, while startups propose virtual assistants and self-thinking drones. Open source GitHub repositories host numerous projects on autonomous game NPCs and robotic control algorithms.\\nArXiv ID: 2310.06775\\nRelated Papers: [\\'1712.05474\\']\\n')]\n",
      "final_answer.invoke(input={'introduction': 'Artificial Intelligence (AI) is a rapidly evolving field that encompasses the development of systems capable of performing tasks that typically require human intelligence. This includes areas such as learning, reasoning, problem-solving, perception, and language understanding.', 'research_steps': '- Conducted a specialist search using the RAG search tool to gather detailed insights on AI.\\n- Performed a web search to obtain general information and current trends related to AI.\\n- Utilized the RAG search filter to delve deeper into specific AI frameworks and concepts.', 'main_body': \"AI has become a cornerstone of modern technology, influencing various sectors from healthcare to finance, and even entertainment. At its core, AI involves creating algorithms and models that enable machines to mimic cognitive functions such as learning and problem-solving. One of the key frameworks in AI is the Conceptual Framework for Autonomous Cognitive Entities (ACE), which focuses on structuring autonomous cognition through layered abstraction. This framework draws inspiration from cybersecurity models and emphasizes competencies required for flexible intelligence, such as planning and metacognition.\\n\\nThe development of autonomous agents is a significant area within AI, where systems are designed to operate independently of human intervention. These agents utilize techniques like reinforcement learning to navigate complex environments and make decisions. The ACE framework, for instance, categorizes systems based on their level of autonomy, allowing for a structured approach to developing intelligent systems that can perceive, plan, and execute actions independently.\\n\\nMoreover, AI's integration into everyday life is evident through applications like virtual assistants, autonomous vehicles, and intelligent process automation. These technologies leverage AI's ability to process large datasets and learn from interactions, thereby improving efficiency and decision-making processes. The ongoing research in AI aims to enhance these capabilities, focusing on ethical considerations and the alignment of AI systems with human values.\", 'conclusion': 'AI continues to transform industries by providing innovative solutions that enhance efficiency and decision-making. The ongoing advancements in AI frameworks, such as the ACE model, highlight the potential for creating intelligent systems that operate autonomously while aligning with ethical standards. As AI technology progresses, it is crucial to balance innovation with ethical considerations to ensure beneficial outcomes for society.', 'sources': \"- RAG search results on AI overview and the ACE framework.\\n- Web search results on AI trends and applications.\\n- ArXiv paper: 'Conceptual Framework for Autonomous Cognitive Entities' (ArXiv ID: 2310.06775).\"})\n"
     ]
    }
   ],
   "source": [
    "out = runnable.invoke({\n",
    "    \"input\": \"tell me about AI\",\n",
    "    \"chat_history\": []\n",
    "})"
   ]
  },
  {
   "cell_type": "code",
   "execution_count": 61,
   "metadata": {
    "colab": {
     "base_uri": "https://localhost:8080/"
    },
    "id": "Vis78CFR3puz",
    "outputId": "da622cdd-510b-4996-97c1-62c6050d66ac"
   },
   "outputs": [
    {
     "name": "stdout",
     "output_type": "stream",
     "text": [
      "\n",
      "INTRODUCTION\n",
      "------------\n",
      "Artificial Intelligence (AI) is a rapidly evolving field that encompasses the development of systems capable of performing tasks that typically require human intelligence. This includes areas such as learning, reasoning, problem-solving, perception, and language understanding.\n",
      "\n",
      "RESEARCH STEPS\n",
      "--------------\n",
      "- Conducted a specialist search using the RAG search tool to gather detailed insights on AI.\n",
      "- Performed a web search to obtain general information and current trends related to AI.\n",
      "- Utilized the RAG search filter to delve deeper into specific AI frameworks and concepts.\n",
      "\n",
      "REPORT\n",
      "------\n",
      "AI has become a cornerstone of modern technology, influencing various sectors from healthcare to finance, and even entertainment. At its core, AI involves creating algorithms and models that enable machines to mimic cognitive functions such as learning and problem-solving. One of the key frameworks in AI is the Conceptual Framework for Autonomous Cognitive Entities (ACE), which focuses on structuring autonomous cognition through layered abstraction. This framework draws inspiration from cybersecurity models and emphasizes competencies required for flexible intelligence, such as planning and metacognition.\n",
      "\n",
      "The development of autonomous agents is a significant area within AI, where systems are designed to operate independently of human intervention. These agents utilize techniques like reinforcement learning to navigate complex environments and make decisions. The ACE framework, for instance, categorizes systems based on their level of autonomy, allowing for a structured approach to developing intelligent systems that can perceive, plan, and execute actions independently.\n",
      "\n",
      "Moreover, AI's integration into everyday life is evident through applications like virtual assistants, autonomous vehicles, and intelligent process automation. These technologies leverage AI's ability to process large datasets and learn from interactions, thereby improving efficiency and decision-making processes. The ongoing research in AI aims to enhance these capabilities, focusing on ethical considerations and the alignment of AI systems with human values.\n",
      "\n",
      "CONCLUSION\n",
      "----------\n",
      "AI continues to transform industries by providing innovative solutions that enhance efficiency and decision-making. The ongoing advancements in AI frameworks, such as the ACE model, highlight the potential for creating intelligent systems that operate autonomously while aligning with ethical standards. As AI technology progresses, it is crucial to balance innovation with ethical considerations to ensure beneficial outcomes for society.\n",
      "\n",
      "SOURCES\n",
      "-------\n",
      "- RAG search results on AI overview and the ACE framework.\n",
      "- Web search results on AI trends and applications.\n",
      "- ArXiv paper: 'Conceptual Framework for Autonomous Cognitive Entities' (ArXiv ID: 2310.06775).\n",
      "\n"
     ]
    }
   ],
   "source": [
    "print(build_report(\n",
    "    output=out[\"intermediate_steps\"][-1].tool_input\n",
    "))"
   ]
  },
  {
   "cell_type": "markdown",
   "metadata": {
    "id": "JNyxZL4SNjhX"
   },
   "source": [
    "Let's ask about RAG specifically."
   ]
  },
  {
   "cell_type": "code",
   "execution_count": 62,
   "metadata": {
    "colab": {
     "base_uri": "https://localhost:8080/"
    },
    "id": "x0VmnWlWE6Lg",
    "outputId": "eb6cd6d7-274b-4856-b6ff-34a0dd615aab",
    "scrolled": true
   },
   "outputs": [
    {
     "name": "stdout",
     "output_type": "stream",
     "text": [
      "run_oracle\n",
      "intermediate_steps: []\n",
      "rag_search.invoke(input={'query': 'retrieval augmented generation'})\n",
      "run_oracle\n",
      "intermediate_steps: [AgentAction(tool='rag_search', tool_input={'query': 'retrieval augmented generation'}, log='TBD'), AgentAction(tool='rag_search', tool_input={'query': 'retrieval augmented generation'}, log=\"Title: AutoGen: Enabling Next-Gen LLM Applications via Multi-Agent Conversation\\nContent: Due to the page limit, details of the evaluation, including case studies in three scenarios are in Appendix D. # A2: Retrieval-Augmented Code Generation and Question Answering Retrieval augmentation has emerged as a practical and effective approach for mitigating the intrinsic limitations of LLMs by incorporating external documents. In this section, we employ AutoGen to build a Retrieval-Augmented Generation (RAG) system (Lewis et al., 2020; Parvez et al., 2021) named Retrieval-augmented Chat. The system consists of two agents: a Retrieval-augmented User Proxy agent and a Retrieval-augmented Assistant agent, both of which are extended from built-in agents from AutoGen. The Retrieval-augmented User Proxy includes a vector database (Chroma, 5We did not evaluate ChatGPT on the whole dataset since it requires substantial manual effort and is re- stricted by its hourly message-number limitation. Multi-agent debate and LangChain ReAct were also not evaluated since they underperformed vanilla GPT-4 on the smaller test set.\\nArXiv ID: 2308.08155\\nRelated Papers: ['2103.03874']\\n\\n---\\nTitle: SimplyRetrieve: A Private and Lightweight Retrieval-Centric Generative AI Tool\\nContent: 2https://www.kioxia.com/en-jp/top.html 3https://huggingface.co/ehartford/ Wizard-Vicuna-13B-Uncensored 4https://huggingface.co/intfloat/ multilingual-e5-base # 4.1 Qualitative Evaluation We compare the results of three approaches: Retrieval-Centric Generation (RCG), Retrieval- Augmented Generation (RAG), and Retrieval-OFF Generation (ROG). Note that in this work, we de- fine RAG as allowing more permissible integra- tion of LLMâ s inherent and externally retrieved knowledge, whereas RCG prioritizes clear demar- cations between context interpretation and knowl- edge memorization. Investigating advanced meth- ods in extracting RCG behavior is a promising research topic. In this work, we conduct simple experiments using prompt-engineering technique to reveal the potential of RCG approach. Specifi- cally, for RCG, we employ a retrieval suffix prompt that reads â answer the following question with the provided knowledge.â For RAG, we use a less constraining prompt that reads â answer the follow- ing question. You may use the provided knowl- edge.â\\nArXiv ID: 2308.03983\\nRelated Papers: ['2302.13971']\\n\")]\n",
      "web_search.invoke(input={'query': 'retrieval augmented generation'})\n",
      "run_oracle\n",
      "intermediate_steps: [AgentAction(tool='rag_search', tool_input={'query': 'retrieval augmented generation'}, log='TBD'), AgentAction(tool='rag_search', tool_input={'query': 'retrieval augmented generation'}, log=\"Title: AutoGen: Enabling Next-Gen LLM Applications via Multi-Agent Conversation\\nContent: Due to the page limit, details of the evaluation, including case studies in three scenarios are in Appendix D. # A2: Retrieval-Augmented Code Generation and Question Answering Retrieval augmentation has emerged as a practical and effective approach for mitigating the intrinsic limitations of LLMs by incorporating external documents. In this section, we employ AutoGen to build a Retrieval-Augmented Generation (RAG) system (Lewis et al., 2020; Parvez et al., 2021) named Retrieval-augmented Chat. The system consists of two agents: a Retrieval-augmented User Proxy agent and a Retrieval-augmented Assistant agent, both of which are extended from built-in agents from AutoGen. The Retrieval-augmented User Proxy includes a vector database (Chroma, 5We did not evaluate ChatGPT on the whole dataset since it requires substantial manual effort and is re- stricted by its hourly message-number limitation. Multi-agent debate and LangChain ReAct were also not evaluated since they underperformed vanilla GPT-4 on the smaller test set.\\nArXiv ID: 2308.08155\\nRelated Papers: ['2103.03874']\\n\\n---\\nTitle: SimplyRetrieve: A Private and Lightweight Retrieval-Centric Generative AI Tool\\nContent: 2https://www.kioxia.com/en-jp/top.html 3https://huggingface.co/ehartford/ Wizard-Vicuna-13B-Uncensored 4https://huggingface.co/intfloat/ multilingual-e5-base # 4.1 Qualitative Evaluation We compare the results of three approaches: Retrieval-Centric Generation (RCG), Retrieval- Augmented Generation (RAG), and Retrieval-OFF Generation (ROG). Note that in this work, we de- fine RAG as allowing more permissible integra- tion of LLMâ s inherent and externally retrieved knowledge, whereas RCG prioritizes clear demar- cations between context interpretation and knowl- edge memorization. Investigating advanced meth- ods in extracting RCG behavior is a promising research topic. In this work, we conduct simple experiments using prompt-engineering technique to reveal the potential of RCG approach. Specifi- cally, for RCG, we employ a retrieval suffix prompt that reads â answer the following question with the provided knowledge.â For RAG, we use a less constraining prompt that reads â answer the follow- ing question. You may use the provided knowl- edge.â\\nArXiv ID: 2308.03983\\nRelated Papers: ['2302.13971']\\n\"), AgentAction(tool='web_search', tool_input={'query': 'retrieval augmented generation'}, log='TBD'), AgentAction(tool='web_search', tool_input={'query': 'retrieval augmented generation'}, log='What Is Retrieval-Augmented Generation aka RAG\\nRetrieval-augmented generation is a technique for enhancing the accuracy and reliability of generative AI models with information from specific ...\\nhttps://blogs.nvidia.com/blog/what-is-retrieval-augmented-generation/\\n---\\nWhat is RAG (Retrieval-Augmented Generation)?\\nRetrieval-Augmented Generation (RAG) is the process of optimizing the output of a large language model, so it references an authoritative knowledge base ...\\nhttps://aws.amazon.com/what-is/retrieval-augmented-generation/\\n---\\nRetrieval-augmented generation\\nRetrieval-augmented generation (RAG) is a technique that enables generative artificial intelligence (Gen AI) models to retrieve and incorporate new ...\\nhttps://en.wikipedia.org/wiki/Retrieval-augmented_generation')]\n",
      "fetch_arxiv.invoke(input={'arxiv_id': '2308.08155'})\n",
      "run_oracle\n",
      "intermediate_steps: [AgentAction(tool='rag_search', tool_input={'query': 'retrieval augmented generation'}, log='TBD'), AgentAction(tool='rag_search', tool_input={'query': 'retrieval augmented generation'}, log=\"Title: AutoGen: Enabling Next-Gen LLM Applications via Multi-Agent Conversation\\nContent: Due to the page limit, details of the evaluation, including case studies in three scenarios are in Appendix D. # A2: Retrieval-Augmented Code Generation and Question Answering Retrieval augmentation has emerged as a practical and effective approach for mitigating the intrinsic limitations of LLMs by incorporating external documents. In this section, we employ AutoGen to build a Retrieval-Augmented Generation (RAG) system (Lewis et al., 2020; Parvez et al., 2021) named Retrieval-augmented Chat. The system consists of two agents: a Retrieval-augmented User Proxy agent and a Retrieval-augmented Assistant agent, both of which are extended from built-in agents from AutoGen. The Retrieval-augmented User Proxy includes a vector database (Chroma, 5We did not evaluate ChatGPT on the whole dataset since it requires substantial manual effort and is re- stricted by its hourly message-number limitation. Multi-agent debate and LangChain ReAct were also not evaluated since they underperformed vanilla GPT-4 on the smaller test set.\\nArXiv ID: 2308.08155\\nRelated Papers: ['2103.03874']\\n\\n---\\nTitle: SimplyRetrieve: A Private and Lightweight Retrieval-Centric Generative AI Tool\\nContent: 2https://www.kioxia.com/en-jp/top.html 3https://huggingface.co/ehartford/ Wizard-Vicuna-13B-Uncensored 4https://huggingface.co/intfloat/ multilingual-e5-base # 4.1 Qualitative Evaluation We compare the results of three approaches: Retrieval-Centric Generation (RCG), Retrieval- Augmented Generation (RAG), and Retrieval-OFF Generation (ROG). Note that in this work, we de- fine RAG as allowing more permissible integra- tion of LLMâ s inherent and externally retrieved knowledge, whereas RCG prioritizes clear demar- cations between context interpretation and knowl- edge memorization. Investigating advanced meth- ods in extracting RCG behavior is a promising research topic. In this work, we conduct simple experiments using prompt-engineering technique to reveal the potential of RCG approach. Specifi- cally, for RCG, we employ a retrieval suffix prompt that reads â answer the following question with the provided knowledge.â For RAG, we use a less constraining prompt that reads â answer the follow- ing question. You may use the provided knowl- edge.â\\nArXiv ID: 2308.03983\\nRelated Papers: ['2302.13971']\\n\"), AgentAction(tool='web_search', tool_input={'query': 'retrieval augmented generation'}, log='TBD'), AgentAction(tool='web_search', tool_input={'query': 'retrieval augmented generation'}, log='What Is Retrieval-Augmented Generation aka RAG\\nRetrieval-augmented generation is a technique for enhancing the accuracy and reliability of generative AI models with information from specific ...\\nhttps://blogs.nvidia.com/blog/what-is-retrieval-augmented-generation/\\n---\\nWhat is RAG (Retrieval-Augmented Generation)?\\nRetrieval-Augmented Generation (RAG) is the process of optimizing the output of a large language model, so it references an authoritative knowledge base ...\\nhttps://aws.amazon.com/what-is/retrieval-augmented-generation/\\n---\\nRetrieval-augmented generation\\nRetrieval-augmented generation (RAG) is a technique that enables generative artificial intelligence (Gen AI) models to retrieve and incorporate new ...\\nhttps://en.wikipedia.org/wiki/Retrieval-augmented_generation'), AgentAction(tool='fetch_arxiv', tool_input={'arxiv_id': '2308.08155'}, log='TBD'), AgentAction(tool='fetch_arxiv', tool_input={'arxiv_id': '2308.08155'}, log='AutoGen is an open-source framework that allows developers to build LLM\\napplications via multiple agents that can converse with each other to\\naccomplish tasks. AutoGen agents are customizable, conversable, and can operate\\nin various modes that employ combinations of LLMs, human inputs, and tools.\\nUsing AutoGen, developers can also flexibly define agent interaction behaviors.\\nBoth natural language and computer code can be used to program flexible\\nconversation patterns for different applications. AutoGen serves as a generic\\ninfrastructure to build diverse applications of various complexities and LLM\\ncapacities. Empirical studies demonstrate the effectiveness of the framework in\\nmany example applications, with domains ranging from mathematics, coding,\\nquestion answering, operations research, online decision-making, entertainment,\\netc.')]\n",
      "final_answer.invoke(input={'introduction': 'Retrieval-Augmented Generation (RAG) is an innovative approach in the field of artificial intelligence that enhances the capabilities of generative models by integrating external information sources. This technique is particularly useful in improving the accuracy and reliability of AI-generated content.', 'research_steps': '- Conducted a specialist search using the RAG search tool to gather detailed information on Retrieval-Augmented Generation.\\n- Performed a web search to obtain general knowledge and definitions from reputable sources.\\n- Retrieved the abstract of a relevant ArXiv paper to understand the practical applications of RAG.', 'main_body': 'Retrieval-Augmented Generation (RAG) is a method designed to optimize the output of large language models (LLMs) by incorporating information from external knowledge bases. This approach addresses the intrinsic limitations of LLMs, such as their reliance on pre-existing data and potential inaccuracies, by allowing them to access and utilize up-to-date and authoritative information during the generation process.\\n\\nThe RAG system typically involves two main components: a retrieval mechanism and a generative model. The retrieval mechanism searches for relevant information from a predefined database or the internet, which is then used by the generative model to produce more accurate and contextually relevant responses. This integration of retrieval and generation processes enables AI models to provide more informed and reliable outputs.\\n\\nIn practical applications, RAG has been employed in various domains, including question answering, code generation, and decision-making. For instance, the AutoGen framework utilizes RAG to build systems that can converse and perform tasks by leveraging both internal and external knowledge sources. This framework demonstrates the versatility and effectiveness of RAG in enhancing the performance of AI applications across different fields.', 'conclusion': 'Retrieval-Augmented Generation represents a significant advancement in AI technology, offering a robust solution to the limitations of traditional generative models. By integrating external information sources, RAG enhances the accuracy and reliability of AI outputs, making it a valuable tool in various applications.', 'sources': '- AutoGen: Enabling Next-Gen LLM Applications via Multi-Agent Conversation, ArXiv ID: 2308.08155\\n- SimplyRetrieve: A Private and Lightweight Retrieval-Centric Generative AI Tool, ArXiv ID: 2308.03983\\n- NVIDIA Blog on Retrieval-Augmented Generation\\n- AWS Documentation on Retrieval-Augmented Generation\\n- Wikipedia entry on Retrieval-Augmented Generation'})\n"
     ]
    }
   ],
   "source": [
    "out = runnable.invoke({\n",
    "    \"input\": \"what is retrieval augmented generation?\",\n",
    "    \"chat_history\": []\n",
    "})"
   ]
  },
  {
   "cell_type": "code",
   "execution_count": 63,
   "metadata": {
    "colab": {
     "base_uri": "https://localhost:8080/"
    },
    "id": "I7LssyU4Nqis",
    "outputId": "270d7a52-6eda-438b-db15-4e2b889133bd"
   },
   "outputs": [
    {
     "name": "stdout",
     "output_type": "stream",
     "text": [
      "\n",
      "INTRODUCTION\n",
      "------------\n",
      "Retrieval-Augmented Generation (RAG) is an innovative approach in the field of artificial intelligence that enhances the capabilities of generative models by integrating external information sources. This technique is particularly useful in improving the accuracy and reliability of AI-generated content.\n",
      "\n",
      "RESEARCH STEPS\n",
      "--------------\n",
      "- Conducted a specialist search using the RAG search tool to gather detailed information on Retrieval-Augmented Generation.\n",
      "- Performed a web search to obtain general knowledge and definitions from reputable sources.\n",
      "- Retrieved the abstract of a relevant ArXiv paper to understand the practical applications of RAG.\n",
      "\n",
      "REPORT\n",
      "------\n",
      "Retrieval-Augmented Generation (RAG) is a method designed to optimize the output of large language models (LLMs) by incorporating information from external knowledge bases. This approach addresses the intrinsic limitations of LLMs, such as their reliance on pre-existing data and potential inaccuracies, by allowing them to access and utilize up-to-date and authoritative information during the generation process.\n",
      "\n",
      "The RAG system typically involves two main components: a retrieval mechanism and a generative model. The retrieval mechanism searches for relevant information from a predefined database or the internet, which is then used by the generative model to produce more accurate and contextually relevant responses. This integration of retrieval and generation processes enables AI models to provide more informed and reliable outputs.\n",
      "\n",
      "In practical applications, RAG has been employed in various domains, including question answering, code generation, and decision-making. For instance, the AutoGen framework utilizes RAG to build systems that can converse and perform tasks by leveraging both internal and external knowledge sources. This framework demonstrates the versatility and effectiveness of RAG in enhancing the performance of AI applications across different fields.\n",
      "\n",
      "CONCLUSION\n",
      "----------\n",
      "Retrieval-Augmented Generation represents a significant advancement in AI technology, offering a robust solution to the limitations of traditional generative models. By integrating external information sources, RAG enhances the accuracy and reliability of AI outputs, making it a valuable tool in various applications.\n",
      "\n",
      "SOURCES\n",
      "-------\n",
      "- AutoGen: Enabling Next-Gen LLM Applications via Multi-Agent Conversation, ArXiv ID: 2308.08155\n",
      "- SimplyRetrieve: A Private and Lightweight Retrieval-Centric Generative AI Tool, ArXiv ID: 2308.03983\n",
      "- NVIDIA Blog on Retrieval-Augmented Generation\n",
      "- AWS Documentation on Retrieval-Augmented Generation\n",
      "- Wikipedia entry on Retrieval-Augmented Generation\n",
      "\n"
     ]
    }
   ],
   "source": [
    "print(build_report(\n",
    "    output=out[\"intermediate_steps\"][-1].tool_input\n",
    "))"
   ]
  },
  {
   "cell_type": "markdown",
   "metadata": {
    "id": "rp2uaRW7cAoM"
   },
   "source": [
    "---"
   ]
  }
 ],
 "metadata": {
  "colab": {
   "provenance": []
  },
  "kernelspec": {
   "display_name": "Python 3 (ipykernel)",
   "language": "python",
   "name": "python3"
  },
  "language_info": {
   "codemirror_mode": {
    "name": "ipython",
    "version": 3
   },
   "file_extension": ".py",
   "mimetype": "text/x-python",
   "name": "python",
   "nbconvert_exporter": "python",
   "pygments_lexer": "ipython3",
   "version": "3.9.22"
  },
  "widgets": {
   "application/vnd.jupyter.widget-state+json": {
    "24a571b8cc864f60bea7ae90ef331b21": {
     "model_module": "@jupyter-widgets/controls",
     "model_module_version": "1.5.0",
     "model_name": "HTMLModel",
     "state": {
      "_dom_classes": [],
      "_model_module": "@jupyter-widgets/controls",
      "_model_module_version": "1.5.0",
      "_model_name": "HTMLModel",
      "_view_count": null,
      "_view_module": "@jupyter-widgets/controls",
      "_view_module_version": "1.5.0",
      "_view_name": "HTMLView",
      "description": "",
      "description_tooltip": null,
      "layout": "IPY_MODEL_c52a55d3643b4f1c83bdf1b1b5fce242",
      "placeholder": "​",
      "style": "IPY_MODEL_7de73bce9c0540e2b3b2c599d57ae215",
      "value": "100%"
     }
    },
    "45580486ce0742b29d0de17850c42060": {
     "model_module": "@jupyter-widgets/controls",
     "model_module_version": "1.5.0",
     "model_name": "FloatProgressModel",
     "state": {
      "_dom_classes": [],
      "_model_module": "@jupyter-widgets/controls",
      "_model_module_version": "1.5.0",
      "_model_name": "FloatProgressModel",
      "_view_count": null,
      "_view_module": "@jupyter-widgets/controls",
      "_view_module_version": "1.5.0",
      "_view_name": "ProgressView",
      "bar_style": "success",
      "description": "",
      "description_tooltip": null,
      "layout": "IPY_MODEL_84c25583658a4f4caeedbc19dd29457a",
      "max": 79,
      "min": 0,
      "orientation": "horizontal",
      "style": "IPY_MODEL_a9594c4de9734895862a48f90bc8c621",
      "value": 79
     }
    },
    "48ec484f11324501b1020314d4989da6": {
     "model_module": "@jupyter-widgets/base",
     "model_module_version": "1.2.0",
     "model_name": "LayoutModel",
     "state": {
      "_model_module": "@jupyter-widgets/base",
      "_model_module_version": "1.2.0",
      "_model_name": "LayoutModel",
      "_view_count": null,
      "_view_module": "@jupyter-widgets/base",
      "_view_module_version": "1.2.0",
      "_view_name": "LayoutView",
      "align_content": null,
      "align_items": null,
      "align_self": null,
      "border": null,
      "bottom": null,
      "display": null,
      "flex": null,
      "flex_flow": null,
      "grid_area": null,
      "grid_auto_columns": null,
      "grid_auto_flow": null,
      "grid_auto_rows": null,
      "grid_column": null,
      "grid_gap": null,
      "grid_row": null,
      "grid_template_areas": null,
      "grid_template_columns": null,
      "grid_template_rows": null,
      "height": null,
      "justify_content": null,
      "justify_items": null,
      "left": null,
      "margin": null,
      "max_height": null,
      "max_width": null,
      "min_height": null,
      "min_width": null,
      "object_fit": null,
      "object_position": null,
      "order": null,
      "overflow": null,
      "overflow_x": null,
      "overflow_y": null,
      "padding": null,
      "right": null,
      "top": null,
      "visibility": null,
      "width": null
     }
    },
    "7de73bce9c0540e2b3b2c599d57ae215": {
     "model_module": "@jupyter-widgets/controls",
     "model_module_version": "1.5.0",
     "model_name": "DescriptionStyleModel",
     "state": {
      "_model_module": "@jupyter-widgets/controls",
      "_model_module_version": "1.5.0",
      "_model_name": "DescriptionStyleModel",
      "_view_count": null,
      "_view_module": "@jupyter-widgets/base",
      "_view_module_version": "1.2.0",
      "_view_name": "StyleView",
      "description_width": ""
     }
    },
    "84c25583658a4f4caeedbc19dd29457a": {
     "model_module": "@jupyter-widgets/base",
     "model_module_version": "1.2.0",
     "model_name": "LayoutModel",
     "state": {
      "_model_module": "@jupyter-widgets/base",
      "_model_module_version": "1.2.0",
      "_model_name": "LayoutModel",
      "_view_count": null,
      "_view_module": "@jupyter-widgets/base",
      "_view_module_version": "1.2.0",
      "_view_name": "LayoutView",
      "align_content": null,
      "align_items": null,
      "align_self": null,
      "border": null,
      "bottom": null,
      "display": null,
      "flex": null,
      "flex_flow": null,
      "grid_area": null,
      "grid_auto_columns": null,
      "grid_auto_flow": null,
      "grid_auto_rows": null,
      "grid_column": null,
      "grid_gap": null,
      "grid_row": null,
      "grid_template_areas": null,
      "grid_template_columns": null,
      "grid_template_rows": null,
      "height": null,
      "justify_content": null,
      "justify_items": null,
      "left": null,
      "margin": null,
      "max_height": null,
      "max_width": null,
      "min_height": null,
      "min_width": null,
      "object_fit": null,
      "object_position": null,
      "order": null,
      "overflow": null,
      "overflow_x": null,
      "overflow_y": null,
      "padding": null,
      "right": null,
      "top": null,
      "visibility": null,
      "width": null
     }
    },
    "925f65b6b0cc47be803c021f644a8f84": {
     "model_module": "@jupyter-widgets/controls",
     "model_module_version": "1.5.0",
     "model_name": "HBoxModel",
     "state": {
      "_dom_classes": [],
      "_model_module": "@jupyter-widgets/controls",
      "_model_module_version": "1.5.0",
      "_model_name": "HBoxModel",
      "_view_count": null,
      "_view_module": "@jupyter-widgets/controls",
      "_view_module_version": "1.5.0",
      "_view_name": "HBoxView",
      "box_style": "",
      "children": [
       "IPY_MODEL_24a571b8cc864f60bea7ae90ef331b21",
       "IPY_MODEL_45580486ce0742b29d0de17850c42060",
       "IPY_MODEL_f1f07bc63a234590ac229d63217e197a"
      ],
      "layout": "IPY_MODEL_a6d67d04d1c8432c8840f411027a0e79"
     }
    },
    "a6d67d04d1c8432c8840f411027a0e79": {
     "model_module": "@jupyter-widgets/base",
     "model_module_version": "1.2.0",
     "model_name": "LayoutModel",
     "state": {
      "_model_module": "@jupyter-widgets/base",
      "_model_module_version": "1.2.0",
      "_model_name": "LayoutModel",
      "_view_count": null,
      "_view_module": "@jupyter-widgets/base",
      "_view_module_version": "1.2.0",
      "_view_name": "LayoutView",
      "align_content": null,
      "align_items": null,
      "align_self": null,
      "border": null,
      "bottom": null,
      "display": null,
      "flex": null,
      "flex_flow": null,
      "grid_area": null,
      "grid_auto_columns": null,
      "grid_auto_flow": null,
      "grid_auto_rows": null,
      "grid_column": null,
      "grid_gap": null,
      "grid_row": null,
      "grid_template_areas": null,
      "grid_template_columns": null,
      "grid_template_rows": null,
      "height": null,
      "justify_content": null,
      "justify_items": null,
      "left": null,
      "margin": null,
      "max_height": null,
      "max_width": null,
      "min_height": null,
      "min_width": null,
      "object_fit": null,
      "object_position": null,
      "order": null,
      "overflow": null,
      "overflow_x": null,
      "overflow_y": null,
      "padding": null,
      "right": null,
      "top": null,
      "visibility": null,
      "width": null
     }
    },
    "a9594c4de9734895862a48f90bc8c621": {
     "model_module": "@jupyter-widgets/controls",
     "model_module_version": "1.5.0",
     "model_name": "ProgressStyleModel",
     "state": {
      "_model_module": "@jupyter-widgets/controls",
      "_model_module_version": "1.5.0",
      "_model_name": "ProgressStyleModel",
      "_view_count": null,
      "_view_module": "@jupyter-widgets/base",
      "_view_module_version": "1.2.0",
      "_view_name": "StyleView",
      "bar_color": null,
      "description_width": ""
     }
    },
    "bfecdc3138334cd1adcd055f338060d1": {
     "model_module": "@jupyter-widgets/controls",
     "model_module_version": "1.5.0",
     "model_name": "DescriptionStyleModel",
     "state": {
      "_model_module": "@jupyter-widgets/controls",
      "_model_module_version": "1.5.0",
      "_model_name": "DescriptionStyleModel",
      "_view_count": null,
      "_view_module": "@jupyter-widgets/base",
      "_view_module_version": "1.2.0",
      "_view_name": "StyleView",
      "description_width": ""
     }
    },
    "c52a55d3643b4f1c83bdf1b1b5fce242": {
     "model_module": "@jupyter-widgets/base",
     "model_module_version": "1.2.0",
     "model_name": "LayoutModel",
     "state": {
      "_model_module": "@jupyter-widgets/base",
      "_model_module_version": "1.2.0",
      "_model_name": "LayoutModel",
      "_view_count": null,
      "_view_module": "@jupyter-widgets/base",
      "_view_module_version": "1.2.0",
      "_view_name": "LayoutView",
      "align_content": null,
      "align_items": null,
      "align_self": null,
      "border": null,
      "bottom": null,
      "display": null,
      "flex": null,
      "flex_flow": null,
      "grid_area": null,
      "grid_auto_columns": null,
      "grid_auto_flow": null,
      "grid_auto_rows": null,
      "grid_column": null,
      "grid_gap": null,
      "grid_row": null,
      "grid_template_areas": null,
      "grid_template_columns": null,
      "grid_template_rows": null,
      "height": null,
      "justify_content": null,
      "justify_items": null,
      "left": null,
      "margin": null,
      "max_height": null,
      "max_width": null,
      "min_height": null,
      "min_width": null,
      "object_fit": null,
      "object_position": null,
      "order": null,
      "overflow": null,
      "overflow_x": null,
      "overflow_y": null,
      "padding": null,
      "right": null,
      "top": null,
      "visibility": null,
      "width": null
     }
    },
    "f1f07bc63a234590ac229d63217e197a": {
     "model_module": "@jupyter-widgets/controls",
     "model_module_version": "1.5.0",
     "model_name": "HTMLModel",
     "state": {
      "_dom_classes": [],
      "_model_module": "@jupyter-widgets/controls",
      "_model_module_version": "1.5.0",
      "_model_name": "HTMLModel",
      "_view_count": null,
      "_view_module": "@jupyter-widgets/controls",
      "_view_module_version": "1.5.0",
      "_view_name": "HTMLView",
      "description": "",
      "description_tooltip": null,
      "layout": "IPY_MODEL_48ec484f11324501b1020314d4989da6",
      "placeholder": "​",
      "style": "IPY_MODEL_bfecdc3138334cd1adcd055f338060d1",
      "value": " 79/79 [04:03&lt;00:00,  2.64s/it]"
     }
    }
   }
  }
 },
 "nbformat": 4,
 "nbformat_minor": 4
}
